{
 "cells": [
  {
   "cell_type": "code",
   "execution_count": 32,
   "metadata": {},
   "outputs": [],
   "source": [
    "import requests\n",
    "from bs4 import BeautifulSoup\n",
    "import random\n",
    "import time\n",
    "from datetime import datetime\n",
    "import json\n",
    "import pandas as pd\n",
    "import pickle\n",
    "from urllib import request\n",
    "import nltk, re, pprint\n",
    "from nltk import word_tokenize\n",
    "\n",
    "class RecipeScraper(object):\n",
    "    def __init__(self, website='chowhound'):\n",
    "        if website == 'chowhound':\n",
    "            self.base_url = 'https://www.chowhound.com/recipes'\n",
    "            print('using chowhound')\n",
    "        else:\n",
    "            self.base_url = None\n",
    "        print(self.base_url)\n",
    "        self.recipes = []\n",
    "        self.base_pages = []\n",
    "           \n",
    "    def get_base_pages(self):\n",
    "        page = requests.get(self.base_url)\n",
    "        soup = BeautifulSoup(page.content, 'html.parser')\n",
    "        \n",
    "        for div in soup.find_all('div',class_=\"fr_bxfoot\"):\n",
    "            for a in div.find_all('a'):\n",
    "                yield a.get('href')\n",
    "                \n",
    "    def get_recipe_pages(self,recipe_base_url):\n",
    "        page = requests.get(recipe_base_url)\n",
    "        soup = BeautifulSoup(page.content, 'html.parser')\n",
    "        \n",
    "        for div in soup.find_all('div',class_=\"fr_bxfoot\"):\n",
    "            yield div.find_all('a')[0].get('href')\n",
    "            \n",
    "    def get_recipe(self, recipe_url, base_url):\n",
    "        page = requests.get(recipe_url)\n",
    "        soup = BeautifulSoup(page.content, \"html.parser\")\n",
    "        \n",
    "        recipe_obj = {}\n",
    "        instructions = []\n",
    "        try:\n",
    "            for div in soup.find_all('div',class_='fr_how_to'):\n",
    "                for li in div.find_all('li'):\n",
    "                    instructions.append(li.find_all('div')[0].text)\n",
    "        except:\n",
    "            pass\n",
    "        \n",
    "        if len(instructions) == 0:\n",
    "            try:\n",
    "                for div in soup.find_all('div',class_='frr_wrap',itemprop='recipeInstructions'):\n",
    "                    for li in div.find_all('li'):\n",
    "                        instructions.append(li.text)\n",
    "            except:\n",
    "                pass\n",
    "\n",
    "        recipe_obj['base_url'] = base_url\n",
    "        recipe_obj['recipe_url'] = recipe_url\n",
    "        try:\n",
    "            recipe_obj['instructions'] = list(enumerate(instructions))\n",
    "            recipe_obj['ingredients'] = [i.text for i in soup.find_all('li',itemprop='ingredients')]\n",
    "            if len(recipe_obj['ingredients']) == 0:\n",
    "                recipe_obj['ingredients'] = [i.text for i in soup.find_all('li',itemprop='recipeIngredient')]\n",
    "            recipe_obj['description'] = [p.text for p in soup.find_all('div', class_='frr_summary',itemprop='description')[0].find_all('p')]\n",
    "        except:\n",
    "            recipe_obj['instructions'] = []\n",
    "            recipe_obj['ingredients'] = []\n",
    "            recipe_obj['description'] = []\n",
    "        return recipe_obj\n",
    "    \n",
    "    def update_recipes(self):\n",
    "        base = [b for b in self.get_base_pages()]\n",
    "        self.base_pages = list(set(base))\n",
    "        print('getting links from '+str(len(self.base_pages))+' base urls')\n",
    "        delay = 5\n",
    "        count = 0\n",
    "        t = datetime.now()\n",
    "        for b in self.base_pages:\n",
    "            print(b)\n",
    "            page = requests.get(b)\n",
    "            soup = BeautifulSoup(page.content, \"html.parser\")\n",
    "            count += 1\n",
    "            timeDelay = random.randrange(1, delay)\n",
    "            time.sleep(timeDelay)\n",
    "            if (len([i.text for i in soup.find_all('li',itemprop='ingredients')]) == 0)\\\n",
    "                &(len([i.text for i in soup.find_all('li',itemprop='recipeIngredient')]) == 0):\n",
    "                self.recipes.extend([self.get_recipe(r, b) for r in self.get_recipe_pages(b)])\n",
    "            else:\n",
    "                self.recipes.extend(self.get_recipe(b, b))\n",
    "            if count%10 == 0:\n",
    "                print(str(count)+' base urls completed in: '+str(datetime.now()-t))\n",
    "        \n",
    "    def run_main(self):\n",
    "        self.update_recipes()\n",
    "        with open('recipe_data.json', 'w') as outfile:\n",
    "            json.dump(self.recipes, outfile)\n"
   ]
  },
  {
   "cell_type": "code",
   "execution_count": 33,
   "metadata": {},
   "outputs": [
    {
     "name": "stdout",
     "output_type": "stream",
     "text": [
      "using chowhound\n",
      "https://www.chowhound.com/recipes\n",
      "getting links from 261 base urls\n",
      "https://www.chowhound.com/recipes/bourbon\n",
      "https://www.chowhound.com/recipes/halloween\n",
      "https://www.chowhound.com/recipes/fondant\n",
      "https://www.chowhound.com/recipes/garlic-powder\n",
      "https://www.chowhound.com/recipes/meatballs\n",
      "https://www.chowhound.com/recipes/dungeness-crab-fromage-blanc-potato-frittata-32073\n",
      "https://www.chowhound.com/recipes/cocktails\n",
      "https://www.chowhound.com/recipes/ghee\n",
      "https://www.chowhound.com/recipes/kid-friendly\n",
      "https://www.chowhound.com/recipes/molasses\n",
      "10 base urls completed in: 0:04:09.765120\n",
      "https://www.chowhound.com/recipes/summer\n",
      "https://www.chowhound.com/recipes/hot-dog\n",
      "https://www.chowhound.com/recipes/make-ahead\n",
      "https://www.chowhound.com/recipes/tomato-paste\n",
      "https://www.chowhound.com/recipes/dessert\n",
      "https://www.chowhound.com/recipes/labor-day\n",
      "https://www.chowhound.com/recipes/unicorn-rainbow-layer-cake-32072\n",
      "https://www.chowhound.com/recipes/baked-italian-meatballs-spicy-tomato-sauce-32065\n",
      "https://www.chowhound.com/recipes/caviar-lobster-scrambled-eggs-creme-fraiche-32062\n",
      "https://www.chowhound.com/recipes/bass\n",
      "20 base urls completed in: 0:08:02.612827\n",
      "https://www.chowhound.com/recipes/tortilla-chips\n",
      "https://www.chowhound.com/recipes/salad\n",
      "https://www.chowhound.com/recipes/pineapple-juice\n",
      "https://www.chowhound.com/recipes/chocolate\n",
      "https://www.chowhound.com/recipes/fathers-day\n",
      "https://www.chowhound.com/recipes/bacon\n",
      "https://www.chowhound.com/recipes/alan-cumming-up-and-cumming-tequila-cocktail-32061\n",
      "https://www.chowhound.com/recipes/eggs\n",
      "https://www.chowhound.com/recipes/marshmallows\n",
      "https://www.chowhound.com/recipes/4th-of-july\n",
      "30 base urls completed in: 0:12:46.541768\n",
      "https://www.chowhound.com/recipes/sharp-cheddar\n",
      "https://www.chowhound.com/recipes/no-bake-smores-icebox-cake-32071\n",
      "https://www.chowhound.com/recipes/gluten-free\n",
      "https://www.chowhound.com/recipes/vegan\n",
      "https://www.chowhound.com/recipes/rice-flour\n",
      "https://www.chowhound.com/recipes/salt\n",
      "https://www.chowhound.com/recipes/vinegar\n",
      "https://www.chowhound.com/recipes/scallions\n",
      "https://www.chowhound.com/recipes/roasted-salmon-with-aioli-and-vegetables-32077\n",
      "https://www.chowhound.com/recipes/lemon-juice\n",
      "40 base urls completed in: 0:17:14.296248\n",
      "https://www.chowhound.com/recipes/paprika\n",
      "https://www.chowhound.com/recipes/side-dish\n",
      "https://www.chowhound.com/recipes/bbq-barbecue\n",
      "https://www.chowhound.com/recipes/san-francisco\n",
      "https://www.chowhound.com/recipes/brown-sugar\n",
      "https://www.chowhound.com/recipes/diy\n",
      "https://www.chowhound.com/recipes/dijon-mustard\n",
      "https://www.chowhound.com/recipes/stir-fry\n",
      "https://www.chowhound.com/recipes/corn\n",
      "https://www.chowhound.com/recipes/new-orleans-shrimp-butter-tomato-sauce-32067\n",
      "50 base urls completed in: 0:23:18.793597\n",
      "https://www.chowhound.com/recipes/brunch\n",
      "https://www.chowhound.com/recipes/yogurt\n",
      "https://www.chowhound.com/recipes/creme-fraiche\n",
      "https://www.chowhound.com/recipes/chili-powder\n",
      "https://www.chowhound.com/recipes/bucatini-pasta-fresh-tomatoes-ahi-tuna-mint-basil-32068\n",
      "https://www.chowhound.com/recipes/fusion\n",
      "https://www.chowhound.com/recipes/buttermilk\n",
      "https://www.chowhound.com/recipes/grilling\n",
      "https://www.chowhound.com/recipes/chardonnay\n",
      "https://www.chowhound.com/recipes/steak-ingredients\n",
      "60 base urls completed in: 0:28:04.885932\n",
      "https://www.chowhound.com/recipes/fried-chicken\n",
      "https://www.chowhound.com/recipes/parmesan\n",
      "https://www.chowhound.com/recipes/frosting\n",
      "https://www.chowhound.com/recipes/christmas\n",
      "https://www.chowhound.com/recipes/popcorn\n",
      "https://www.chowhound.com/recipes/chinese\n",
      "https://www.chowhound.com/recipes/eggplant\n",
      "https://www.chowhound.com/recipes/food-coloring\n",
      "https://www.chowhound.com/recipes/salad-bacon-gluten-free-fried-chicken-32064\n",
      "https://www.chowhound.com/recipes/drink\n",
      "70 base urls completed in: 0:32:47.812940\n",
      "https://www.chowhound.com/recipes/sugar\n",
      "https://www.chowhound.com/recipes/star-anise\n",
      "https://www.chowhound.com/recipes/vegetable-oil\n",
      "https://www.chowhound.com/recipes/milk\n",
      "https://www.chowhound.com/recipes/allspice\n",
      "https://www.chowhound.com/recipes/matcha\n",
      "https://www.chowhound.com/recipes/quinoa\n",
      "https://www.chowhound.com/recipes/fish\n",
      "https://www.chowhound.com/recipes/snack\n",
      "https://www.chowhound.com/recipes/tuna\n",
      "80 base urls completed in: 0:37:53.612313\n",
      "https://www.chowhound.com/recipes/worcestershire-sauce\n",
      "https://www.chowhound.com/recipes/party-planning\n",
      "https://www.chowhound.com/recipes/soy-sauce\n",
      "https://www.chowhound.com/recipes/main-dish\n",
      "https://www.chowhound.com/recipes/asian\n",
      "https://www.chowhound.com/recipes/thai-basil\n",
      "https://www.chowhound.com/recipes/cornstarch\n",
      "https://www.chowhound.com/recipes/ground-beef\n",
      "https://www.chowhound.com/recipes/pork\n",
      "https://www.chowhound.com/recipes/peaches\n",
      "90 base urls completed in: 0:43:48.728751\n",
      "https://www.chowhound.com/recipes/crab\n",
      "https://www.chowhound.com/recipes/flour\n",
      "https://www.chowhound.com/recipes/spring-pea-salad-with-avocado-radish-quinoa-mint-32069\n",
      "https://www.chowhound.com/recipes/orange-juice\n",
      "https://www.chowhound.com/recipes/spring\n",
      "https://www.chowhound.com/recipes/anchovy\n",
      "https://www.chowhound.com/recipes/tarts\n",
      "https://www.chowhound.com/recipes/jalapeno-pepper\n",
      "https://www.chowhound.com/recipes/parsley\n",
      "https://www.chowhound.com/recipes/breadcrumbs\n",
      "100 base urls completed in: 0:49:24.848178\n",
      "https://www.chowhound.com/recipes/los-angeles\n",
      "https://www.chowhound.com/recipes/camping\n",
      "https://www.chowhound.com/recipes/aioli\n",
      "https://www.chowhound.com/recipes/herbs\n",
      "https://www.chowhound.com/recipes/baking-soda\n",
      "https://www.chowhound.com/recipes/appetizer\n",
      "https://www.chowhound.com/recipes/seafood\n",
      "https://www.chowhound.com/recipes/cucumbers\n",
      "https://www.chowhound.com/recipes/creole\n",
      "https://www.chowhound.com/recipes/no-cook\n",
      "110 base urls completed in: 0:55:29.889600\n",
      "https://www.chowhound.com/recipes/kefir\n",
      "https://www.chowhound.com/recipes/snap-peas\n",
      "https://www.chowhound.com/recipes/frozen-yogurt\n",
      "https://www.chowhound.com/recipes/chilled-avocado-cucumber-kefir-soup-32074\n",
      "https://www.chowhound.com/recipes/brining\n",
      "https://www.chowhound.com/recipes/shrimp\n",
      "https://www.chowhound.com/recipes/corn-flour\n",
      "https://www.chowhound.com/recipes/dinner\n",
      "https://www.chowhound.com/recipes/memorial-day\n",
      "https://www.chowhound.com/recipes/tequila\n",
      "120 base urls completed in: 0:59:18.670230\n",
      "https://www.chowhound.com/recipes/citrus-jerk-fish-gluten-free-fonio-okra-tomatoes-32080\n",
      "https://www.chowhound.com/recipes/basil\n",
      "https://www.chowhound.com/recipes/celery\n",
      "https://www.chowhound.com/recipes/champagne-vinegar\n",
      "https://www.chowhound.com/recipes/chinese-twice-cooked-pork-32059\n",
      "https://www.chowhound.com/recipes/sesame-oil\n",
      "https://www.chowhound.com/recipes/thyme\n",
      "https://www.chowhound.com/recipes/summer-peach-caprese-salad-32078\n",
      "https://www.chowhound.com/recipes/healthy\n",
      "https://www.chowhound.com/recipes/mint\n",
      "130 base urls completed in: 1:03:23.954235\n",
      "https://www.chowhound.com/recipes/cranberry-juice\n",
      "https://www.chowhound.com/recipes/potatoes\n",
      "https://www.chowhound.com/recipes/hot-sauce\n",
      "https://www.chowhound.com/recipes/miami\n",
      "https://www.chowhound.com/recipes/japanese\n",
      "https://www.chowhound.com/recipes/lemons\n",
      "https://www.chowhound.com/recipes/arugula\n",
      "https://www.chowhound.com/recipes/medium\n",
      "https://www.chowhound.com/recipes/ketchup\n",
      "https://www.chowhound.com/recipes/black-pepper\n",
      "140 base urls completed in: 1:10:15.486616\n",
      "https://www.chowhound.com/recipes/rye-berry-salad-herbed-kefir-dressing-32075\n",
      "https://www.chowhound.com/recipes/sriracha\n",
      "https://www.chowhound.com/recipes/wild-turkey-bourbon-fireball-whiskey-ginger-cocktail-32060\n",
      "https://www.chowhound.com/recipes/tomatoes\n",
      "https://www.chowhound.com/recipes/breakfast\n",
      "https://www.chowhound.com/recipes/carrots\n",
      "https://www.chowhound.com/recipes/cinnamon\n",
      "https://www.chowhound.com/recipes/grains\n",
      "https://www.chowhound.com/recipes/pan-grilling\n",
      "https://www.chowhound.com/recipes/braising\n",
      "150 base urls completed in: 1:14:23.600435\n",
      "https://www.chowhound.com/recipes/super-bowl\n",
      "https://www.chowhound.com/recipes/manhattan\n",
      "https://www.chowhound.com/recipes/radishes\n",
      "https://www.chowhound.com/recipes/dungeness-crab\n",
      "https://www.chowhound.com/recipes/frittata\n",
      "https://www.chowhound.com/recipes/vegetarian\n",
      "https://www.chowhound.com/recipes/lobster\n",
      "https://www.chowhound.com/recipes/pescatarian\n"
     ]
    },
    {
     "name": "stdout",
     "output_type": "stream",
     "text": [
      "https://www.chowhound.com/recipes/spicy-fried-chicken-cornmeal-crust-32066\n",
      "https://www.chowhound.com/recipes/grilled-corn-cornbread-puree-popcorn-32063\n",
      "160 base urls completed in: 1:18:29.081438\n",
      "https://www.chowhound.com/recipes/cherry-tomatoes\n",
      "https://www.chowhound.com/recipes/bell-peppers\n",
      "https://www.chowhound.com/recipes/matcha-green-tea-ice-cream-sandwich-vegan-ginger-molasses-cookies-32082\n",
      "https://www.chowhound.com/recipes/okra\n",
      "https://www.chowhound.com/recipes/chives\n",
      "https://www.chowhound.com/recipes/beets\n",
      "https://www.chowhound.com/recipes/cotija\n",
      "https://www.chowhound.com/recipes/spices\n",
      "https://www.chowhound.com/recipes/shellfish\n",
      "https://www.chowhound.com/recipes/rice-vinegar\n",
      "170 base urls completed in: 1:22:56.138107\n",
      "https://www.chowhound.com/recipes/canola-oil\n",
      "https://www.chowhound.com/recipes/cherries\n",
      "https://www.chowhound.com/recipes/southern\n",
      "https://www.chowhound.com/recipes/easy\n",
      "https://www.chowhound.com/recipes/picnic\n",
      "https://www.chowhound.com/recipes/french\n",
      "https://www.chowhound.com/recipes/green-beans\n",
      "https://www.chowhound.com/recipes/ricotta\n",
      "https://www.chowhound.com/recipes/candy\n",
      "https://www.chowhound.com/recipes/beef-shoulder\n",
      "180 base urls completed in: 1:28:37.481506\n",
      "https://www.chowhound.com/recipes/almonds\n",
      "https://www.chowhound.com/recipes/english-peas\n",
      "https://www.chowhound.com/recipes/deep-frying\n",
      "https://www.chowhound.com/recipes/puff-pastry-dough\n",
      "https://www.chowhound.com/recipes/pasta\n",
      "https://www.chowhound.com/recipes/ground-pork\n",
      "https://www.chowhound.com/recipes/garlic\n",
      "https://www.chowhound.com/recipes/searing\n",
      "https://www.chowhound.com/recipes/triple-sec\n",
      "https://www.chowhound.com/recipes/sherry-vinegar\n",
      "190 base urls completed in: 1:33:17.516418\n",
      "https://www.chowhound.com/recipes/piquillo-pepper\n",
      "https://www.chowhound.com/recipes/cherry-tomato-tart-anchovies-garlic-confit-32076\n",
      "https://www.chowhound.com/recipes/baking\n",
      "https://www.chowhound.com/recipes/caviar\n",
      "https://www.chowhound.com/recipes/flatbread\n",
      "https://www.chowhound.com/recipes/scotch-bonnet-pepper\n",
      "https://www.chowhound.com/recipes/ribs\n",
      "https://www.chowhound.com/recipes/powdered-sugar\n",
      "https://www.chowhound.com/recipes/chicken\n",
      "https://www.chowhound.com/recipes/spiral-cut-bacon-dog-31562\n",
      "200 base urls completed in: 1:36:29.074054\n",
      "https://www.chowhound.com/recipes/dill\n",
      "https://www.chowhound.com/recipes/cornbread\n",
      "https://www.chowhound.com/recipes/onions\n",
      "https://www.chowhound.com/recipes/lettuce\n",
      "https://www.chowhound.com/recipes/barbecuing\n",
      "https://www.chowhound.com/recipes/butter\n",
      "https://www.chowhound.com/recipes/greek-yogurt\n",
      "https://www.chowhound.com/recipes/kosher-salt\n",
      "https://www.chowhound.com/recipes/rice-wine\n",
      "https://www.chowhound.com/recipes/ice-cream\n",
      "210 base urls completed in: 1:41:43.275714\n",
      "https://www.chowhound.com/recipes/cardamom\n",
      "https://www.chowhound.com/recipes/horseradish\n",
      "https://www.chowhound.com/recipes/soup\n",
      "https://www.chowhound.com/recipes/olive-oil\n",
      "https://www.chowhound.com/recipes/cakes\n",
      "https://www.chowhound.com/recipes/peas\n",
      "https://www.chowhound.com/recipes/oregano\n",
      "https://www.chowhound.com/recipes/cream\n",
      "https://www.chowhound.com/recipes/baking-powder\n",
      "https://www.chowhound.com/recipes/pork-belly\n",
      "220 base urls completed in: 1:47:32.181577\n",
      "https://www.chowhound.com/recipes/chinese-garlic-eggplant-32058\n",
      "https://www.chowhound.com/recipes/steak-salad-charred-corn-radish-cotija-cheese-32070\n",
      "https://www.chowhound.com/recipes/movie-theater-nachos-spiral-cut-hot-dog-31561\n",
      "https://www.chowhound.com/recipes/cane-syrup\n",
      "https://www.chowhound.com/recipes/american\n",
      "https://www.chowhound.com/recipes/banh-mi-spiral-cut-hot-dog-31559\n",
      "https://www.chowhound.com/recipes/fromage-blanc\n",
      "https://www.chowhound.com/recipes/rye\n",
      "https://www.chowhound.com/recipes/birthday\n",
      "https://www.chowhound.com/recipes/salmon\n",
      "230 base urls completed in: 1:50:18.015246\n",
      "https://www.chowhound.com/recipes/shallots\n",
      "https://www.chowhound.com/recipes/cookies\n",
      "https://www.chowhound.com/recipes/fish-sauce\n",
      "https://www.chowhound.com/recipes/avocados\n",
      "https://www.chowhound.com/recipes/washington-dc\n",
      "https://www.chowhound.com/recipes/oranges\n",
      "https://www.chowhound.com/recipes/lunch\n",
      "https://www.chowhound.com/recipes/eat\n",
      "https://www.chowhound.com/recipes/academy-awards\n",
      "https://www.chowhound.com/recipes/vanilla-extract\n",
      "240 base urls completed in: 1:56:10.878345\n",
      "https://www.chowhound.com/recipes/fresh-mozzarella\n",
      "https://www.chowhound.com/recipes/chile-pepper\n",
      "https://www.chowhound.com/recipes/italian\n",
      "https://www.chowhound.com/recipes/whiskey\n",
      "https://www.chowhound.com/recipes/white-wine\n",
      "https://www.chowhound.com/recipes/red-wine-vinegar\n",
      "https://www.chowhound.com/recipes/dallas\n",
      "https://www.chowhound.com/recipes/chinese-new-year\n",
      "https://www.chowhound.com/recipes/fall\n",
      "https://www.chowhound.com/recipes/jerk-seasoning\n",
      "250 base urls completed in: 2:01:00.774885\n",
      "https://www.chowhound.com/recipes/fish-stock\n",
      "https://www.chowhound.com/recipes/banh-mi\n",
      "https://www.chowhound.com/recipes/tailgating\n",
      "https://www.chowhound.com/recipes/ginger\n",
      "https://www.chowhound.com/recipes/new-orleans\n",
      "https://www.chowhound.com/recipes/valentines-day\n",
      "https://www.chowhound.com/recipes/spiral-cut-hot-dogs-spicy-cherry-relish-31560\n",
      "https://www.chowhound.com/recipes/lime-juice\n",
      "https://www.chowhound.com/recipes/dinner-party\n",
      "https://www.chowhound.com/recipes/cake-decorating\n",
      "260 base urls completed in: 2:05:42.032509\n",
      "https://www.chowhound.com/recipes/baby-shower\n"
     ]
    },
    {
     "ename": "NameError",
     "evalue": "name 'rs' is not defined",
     "output_type": "error",
     "traceback": [
      "\u001b[0;31m---------------------------------------------------------------------------\u001b[0m",
      "\u001b[0;31mNameError\u001b[0m                                 Traceback (most recent call last)",
      "\u001b[0;32m<ipython-input-33-f0cdf7f9452e>\u001b[0m in \u001b[0;36m<module>\u001b[0;34m()\u001b[0m\n\u001b[1;32m      1\u001b[0m \u001b[0mr_scraper\u001b[0m \u001b[0;34m=\u001b[0m \u001b[0mRecipeScraper\u001b[0m\u001b[0;34m(\u001b[0m\u001b[0;34m)\u001b[0m\u001b[0;34m\u001b[0m\u001b[0m\n\u001b[0;32m----> 2\u001b[0;31m \u001b[0mr_scraper\u001b[0m\u001b[0;34m.\u001b[0m\u001b[0mrun_main\u001b[0m\u001b[0;34m(\u001b[0m\u001b[0;34m)\u001b[0m\u001b[0;34m\u001b[0m\u001b[0m\n\u001b[0m",
      "\u001b[0;32m<ipython-input-32-5e3e9752a5e9>\u001b[0m in \u001b[0;36mrun_main\u001b[0;34m(self)\u001b[0m\n\u001b[1;32m     96\u001b[0m         \u001b[0mself\u001b[0m\u001b[0;34m.\u001b[0m\u001b[0mupdate_recipes\u001b[0m\u001b[0;34m(\u001b[0m\u001b[0;34m)\u001b[0m\u001b[0;34m\u001b[0m\u001b[0m\n\u001b[1;32m     97\u001b[0m         \u001b[0;32mwith\u001b[0m \u001b[0mopen\u001b[0m\u001b[0;34m(\u001b[0m\u001b[0;34m'recipe_data.json'\u001b[0m\u001b[0;34m,\u001b[0m \u001b[0;34m'w'\u001b[0m\u001b[0;34m)\u001b[0m \u001b[0;32mas\u001b[0m \u001b[0moutfile\u001b[0m\u001b[0;34m:\u001b[0m\u001b[0;34m\u001b[0m\u001b[0m\n\u001b[0;32m---> 98\u001b[0;31m             \u001b[0mjson\u001b[0m\u001b[0;34m.\u001b[0m\u001b[0mdump\u001b[0m\u001b[0;34m(\u001b[0m\u001b[0mrs\u001b[0m\u001b[0;34m.\u001b[0m\u001b[0mrecipes\u001b[0m\u001b[0;34m,\u001b[0m \u001b[0moutfile\u001b[0m\u001b[0;34m)\u001b[0m\u001b[0;34m\u001b[0m\u001b[0m\n\u001b[0m",
      "\u001b[0;31mNameError\u001b[0m: name 'rs' is not defined"
     ]
    }
   ],
   "source": [
    "r_scraper = RecipeScraper()\n",
    "r_scraper.run_main()"
   ]
  },
  {
   "cell_type": "code",
   "execution_count": 39,
   "metadata": {},
   "outputs": [],
   "source": [
    "# with open('recipe_data.pkl', 'wb') as outfile:\n",
    "#     pickle.dump(r_scraper.recipes, outfile)"
   ]
  },
  {
   "cell_type": "code",
   "execution_count": 7,
   "metadata": {},
   "outputs": [],
   "source": [
    "import requests\n",
    "from bs4 import BeautifulSoup\n",
    "import random\n",
    "import time\n",
    "from datetime import datetime\n",
    "import json\n",
    "import pandas as pd\n",
    "import pickle\n",
    "from urllib import request\n",
    "import nltk, re, pprint\n",
    "from nltk import word_tokenize"
   ]
  },
  {
   "cell_type": "code",
   "execution_count": 40,
   "metadata": {},
   "outputs": [
    {
     "data": {
      "text/plain": [
       "4850"
      ]
     },
     "execution_count": 40,
     "metadata": {},
     "output_type": "execute_result"
    }
   ],
   "source": [
    "len(r_scraper.recipes)"
   ]
  },
  {
   "cell_type": "code",
   "execution_count": 8,
   "metadata": {},
   "outputs": [],
   "source": [
    "with open('recipe_data.pkl', 'rb') as f:\n",
    "    data = pickle.load(f)"
   ]
  },
  {
   "cell_type": "code",
   "execution_count": 9,
   "metadata": {},
   "outputs": [],
   "source": [
    "new_data = []\n",
    "for obj in data[5:]:\n",
    "    if type(obj)!=dict:\n",
    "        pass\n",
    "    else:\n",
    "        new_data.append(obj)"
   ]
  },
  {
   "cell_type": "code",
   "execution_count": 10,
   "metadata": {},
   "outputs": [],
   "source": [
    "df = pd.DataFrame(new_data)"
   ]
  },
  {
   "cell_type": "code",
   "execution_count": 756,
   "metadata": {},
   "outputs": [
    {
     "data": {
      "text/plain": [
       "[(0,\n",
       "  '\\n1Muddle 12 to 20 mint leaves with simple syrup or sugar in a silver julep cup, then pour in bourbon.'),\n",
       " (1, '\\n2Fill the glass with crushed ice, and garnish with more mint leaves.'),\n",
       " (2, 'Share on Facebook'),\n",
       " (3, 'Share on Reddit'),\n",
       " (4, 'Print'),\n",
       " (5, 'Email'),\n",
       " (6, 'Save (105)')]"
      ]
     },
     "execution_count": 756,
     "metadata": {},
     "output_type": "execute_result"
    }
   ],
   "source": [
    "df.iloc[0:10,3][3]"
   ]
  },
  {
   "cell_type": "code",
   "execution_count": 11,
   "metadata": {},
   "outputs": [],
   "source": [
    "def clean_ingredients(x):\n",
    "    new_list = []\n",
    "    for item in x:\n",
    "        new_list.append((item.replace('\\n','').replace('[','').replace('(','').replace(')','').replace('{{','')).replace('}}',''))\n",
    "    return new_list\n",
    "\n",
    "def clean_instructions(x):\n",
    "    new_list = []\n",
    "    for item in x:\n",
    "        new_list.append((item[0],item[1].replace('\\n','').replace('(','').replace(')','').replace('[','').replace('{{','')))\n",
    "    return new_list\n",
    "\n",
    "def is_meat(text_list):\n",
    "    meat_list = [' chicken ', ' beef ', ' steak ', ' goat ', ' flank ', ' pork ',\n",
    "                 ' tenderloin ', ' fish ', ' ham ',' duck ',' lamb ',' tuna ',' salami ',' sausage ']\n",
    "    for item in text_list:\n",
    "        for m in meat_list:\n",
    "            if m in item:\n",
    "                return 1\n",
    "    return 0\n",
    "\n",
    "def is_dairy(text_list):\n",
    "    dairy_list = ['milk', 'cream', 'cheese', 'yogurt', 'butter', 'ice cream']\n",
    "    for item in text_list:\n",
    "        for d in dairy_list:\n",
    "            if d in item:\n",
    "                return 1\n",
    "    return 0"
   ]
  },
  {
   "cell_type": "code",
   "execution_count": 12,
   "metadata": {},
   "outputs": [],
   "source": [
    "df['num_ingredients'] = df.ingredients.apply(lambda x: len(x))\n",
    "df['num_instructions'] = df.instructions.apply(lambda x: len(x))\n",
    "df['topic'] = df.base_url.apply(lambda x: x.split('/')[-1])\n",
    "df[\"ingredients\"] = df['ingredients'].apply(lambda x: clean_ingredients(x))\n",
    "df['is_dairy'] = df.ingredients.apply(lambda x: is_dairy(x))\n",
    "df['is_meat'] = df.ingredients.apply(lambda x: is_meat(x))\n",
    "df['instructions'] = df['instructions'].apply(lambda x: clean_instructions(x))"
   ]
  },
  {
   "cell_type": "code",
   "execution_count": 13,
   "metadata": {},
   "outputs": [],
   "source": [
    "#unique(df['recipe_url'])\n",
    "#len(df.recipe_url.unique())\n",
    "df = df.drop_duplicates('recipe_url')"
   ]
  },
  {
   "cell_type": "code",
   "execution_count": 14,
   "metadata": {},
   "outputs": [
    {
     "data": {
      "text/plain": [
       "(1912, 10)"
      ]
     },
     "execution_count": 14,
     "metadata": {},
     "output_type": "execute_result"
    }
   ],
   "source": [
    "#take unique words from ingredients\n",
    "df.shape"
   ]
  },
  {
   "cell_type": "code",
   "execution_count": 15,
   "metadata": {},
   "outputs": [],
   "source": [
    "def remove_brackets(text_list):\n",
    "    new_list = []\n",
    "    for item in text_list:\n",
    "        new_list.append(re.sub('[^\\w\\s]','', x))\n",
    "        "
   ]
  },
  {
   "cell_type": "code",
   "execution_count": 16,
   "metadata": {},
   "outputs": [],
   "source": [
    "#df['Ingredients'] = df.ingredients.apply(lambda x: remove_brackets(x))"
   ]
  },
  {
   "cell_type": "code",
   "execution_count": 17,
   "metadata": {},
   "outputs": [
    {
     "data": {
      "text/plain": [
       "Text(0,0.5,'Instructions')"
      ]
     },
     "execution_count": 17,
     "metadata": {},
     "output_type": "execute_result"
    },
    {
     "data": {
      "image/png": "[encoded data removed]",
      "text/plain": [
       "<Figure size 432x288 with 1 Axes>"
      ]
     },
     "metadata": {},
     "output_type": "display_data"
    }
   ],
   "source": [
    "%matplotlib inline\n",
    "from copy import deepcopy\n",
    "import numpy as np\n",
    "import pandas as pd\n",
    "from matplotlib import pyplot as plt\n",
    "f1 = df['num_ingredients'].values\n",
    "f2 = df['num_instructions'].values\n",
    "\n",
    "X = np.array((zip(f1, f2)))\n",
    "plt.scatter(f1, f2, c= 'red', s=7)\n",
    "plt.title(\"Ingredients versus Instructions\")\n",
    "plt.xlabel(\"Ingredients\")\n",
    "plt.ylabel(\"Instructions\")"
   ]
  },
  {
   "cell_type": "code",
   "execution_count": 93,
   "metadata": {},
   "outputs": [],
   "source": [
    "from sklearn import preprocessing\n",
    "from sklearn.cluster import KMeans\n",
    "from scipy.spatial.distance import cdist\n",
    "x = df[['num_ingredients','num_instructions']]\n",
    "standard_scaler = preprocessing.StandardScaler()\n",
    "x_scaled = standard_scaler.fit_transform(x)\n",
    "x_scaled = pd.DataFrame(x_scaled)"
   ]
  },
  {
   "cell_type": "code",
   "execution_count": 94,
   "metadata": {},
   "outputs": [
    {
     "data": {
      "text/plain": [
       "KMeans(algorithm='auto', copy_x=True, init='k-means++', max_iter=300,\n",
       "    n_clusters=8, n_init=10, n_jobs=1, precompute_distances='auto',\n",
       "    random_state=None, tol=0.0001, verbose=0)"
      ]
     },
     "execution_count": 94,
     "metadata": {},
     "output_type": "execute_result"
    }
   ],
   "source": [
    "KMeans()"
   ]
  },
  {
   "cell_type": "code",
   "execution_count": 95,
   "metadata": {
    "scrolled": true
   },
   "outputs": [
    {
     "name": "stdout",
     "output_type": "stream",
     "text": [
      "Fitting for 2 clusters\n",
      "Fitting for 3 clusters\n",
      "Fitting for 4 clusters\n",
      "Fitting for 5 clusters\n",
      "Fitting for 6 clusters\n",
      "Fitting for 7 clusters\n",
      "Fitting for 8 clusters\n",
      "Fitting for 9 clusters\n",
      "Fitting for 10 clusters\n",
      "Fitting for 11 clusters\n",
      "Fitting for 12 clusters\n",
      "Fitting for 13 clusters\n",
      "Fitting for 14 clusters\n",
      "Fitting for 15 clusters\n",
      "Fitting for 16 clusters\n",
      "Fitting for 17 clusters\n",
      "Fitting for 18 clusters\n",
      "Fitting for 19 clusters\n"
     ]
    },
    {
     "data": {
      "image/png": "[encoded data removed]",
      "text/plain": [
       "<Figure size 432x288 with 1 Axes>"
      ]
     },
     "metadata": {},
     "output_type": "display_data"
    }
   ],
   "source": [
    "distortions = []\n",
    "K = range(2,20)\n",
    "for k in K:\n",
    "    print('Fitting for ' +str(k)+' clusters')\n",
    "    kmeans = KMeans(n_clusters=k).fit(x_scaled)\n",
    "    kmeans.fit(x_scaled)\n",
    "    distortions.append(sum(np.min(cdist(x_scaled,kmeans.cluster_centers_,'euclidean'),axis=1))/x_scaled.shape[0])\n",
    "    \n",
    "plt.plot(K,distortions,'bx-')\n",
    "plt.grid(True)\n",
    "plt.xlabel('k')\n",
    "plt.ylabel('Distortion')\n",
    "plt.title('The Elbow Method showing the optimal k')\n",
    "\n",
    "plt.show()"
   ]
  },
  {
   "cell_type": "code",
   "execution_count": 96,
   "metadata": {},
   "outputs": [],
   "source": [
    "cluster_map = KMeans(n_clusters=10).fit(x_scaled)\n",
    "df['cluster_group'] = cluster_map.predict(x_scaled)\n"
   ]
  },
  {
   "cell_type": "code",
   "execution_count": 97,
   "metadata": {},
   "outputs": [
    {
     "data": {
      "text/plain": [
       "1    407\n",
       "5    355\n",
       "0    290\n",
       "4    265\n",
       "9    144\n",
       "2    143\n",
       "7    113\n",
       "8     97\n",
       "3     85\n",
       "6     13\n",
       "Name: cluster_group, dtype: int64"
      ]
     },
     "execution_count": 97,
     "metadata": {},
     "output_type": "execute_result"
    }
   ],
   "source": [
    "df.cluster_group.value_counts()"
   ]
  },
  {
   "cell_type": "code",
   "execution_count": 98,
   "metadata": {},
   "outputs": [
    {
     "data": {
      "text/plain": [
       "<function matplotlib.pyplot.show(*args, **kw)>"
      ]
     },
     "execution_count": 98,
     "metadata": {},
     "output_type": "execute_result"
    },
    {
     "data": {
      "image/png": "[encoded data removed]",
      "text/plain": [
       "<Figure size 432x288 with 1 Axes>"
      ]
     },
     "metadata": {},
     "output_type": "display_data"
    }
   ],
   "source": [
    "plt.scatter(f1, f2, s=7, c=df.cluster_group.values)\n",
    "plt.title(\"Clusters for Ingredients versus Instructions\")\n",
    "plt.xlabel(\"Ingredients\")\n",
    "plt.ylabel(\"Instructions\")\n",
    "plt.show"
   ]
  },
  {
   "cell_type": "code",
   "execution_count": 25,
   "metadata": {},
   "outputs": [],
   "source": [
    "y = df[['is_dairy','is_meat','num_ingredients','num_instructions']]\n",
    "standard_scaler = preprocessing.StandardScaler()\n",
    "y_scaled = standard_scaler.fit_transform(y)\n",
    "y_scaled = pd.DataFrame(y_scaled)\n",
    "#simple cluster looking at amount of "
   ]
  },
  {
   "cell_type": "code",
   "execution_count": 26,
   "metadata": {},
   "outputs": [
    {
     "name": "stdout",
     "output_type": "stream",
     "text": [
      "Fitting for 2 clusters\n",
      "Fitting for 3 clusters\n",
      "Fitting for 4 clusters\n",
      "Fitting for 5 clusters\n",
      "Fitting for 6 clusters\n",
      "Fitting for 7 clusters\n",
      "Fitting for 8 clusters\n",
      "Fitting for 9 clusters\n",
      "Fitting for 10 clusters\n",
      "Fitting for 11 clusters\n",
      "Fitting for 12 clusters\n",
      "Fitting for 13 clusters\n",
      "Fitting for 14 clusters\n",
      "Fitting for 15 clusters\n",
      "Fitting for 16 clusters\n",
      "Fitting for 17 clusters\n",
      "Fitting for 18 clusters\n",
      "Fitting for 19 clusters\n"
     ]
    },
    {
     "data": {
      "image/png": "[encoded data removed]",
      "text/plain": [
       "<Figure size 432x288 with 1 Axes>"
      ]
     },
     "metadata": {},
     "output_type": "display_data"
    }
   ],
   "source": [
    "distortions = []\n",
    "K = range(2,20)\n",
    "for k in K:\n",
    "    print('Fitting for ' +str(k)+' clusters')\n",
    "    kmeans = KMeans(n_clusters=k).fit(y_scaled)\n",
    "    kmeans.fit(y_scaled)\n",
    "    distortions.append(sum(np.min(cdist(y_scaled,kmeans.cluster_centers_,'euclidean'),axis=1))/y_scaled.shape[0])\n",
    "    \n",
    "plt.plot(K,distortions,'bx-')\n",
    "plt.grid(True)\n",
    "plt.xlabel('k')\n",
    "plt.ylabel('Distortion')\n",
    "plt.title('The Elbow Method showing the optimal k')\n",
    "\n",
    "plt.show()"
   ]
  },
  {
   "cell_type": "code",
   "execution_count": 27,
   "metadata": {},
   "outputs": [],
   "source": [
    "cluster_map = KMeans(n_clusters=10).fit(y_scaled)\n",
    "df['cluster_group'] = cluster_map.predict(y_scaled)\n"
   ]
  },
  {
   "cell_type": "code",
   "execution_count": 28,
   "metadata": {},
   "outputs": [
    {
     "data": {
      "image/png": "[encoded data removed]",
      "text/plain": [
       "<Figure size 432x288 with 1 Axes>"
      ]
     },
     "metadata": {},
     "output_type": "display_data"
    }
   ],
   "source": [
    "from mpl_toolkits.mplot3d import Axes3D\n",
    "fig = plt.figure()\n",
    "ax = fig.add_subplot(111, projection='3d')\n",
    "\n",
    "xs = f1\n",
    "ys = f2\n",
    "zs = df.is_dairy.values\n",
    "c = df.cluster_group.values\n",
    "ax.scatter(xs, ys, zs, c=c)\n",
    "\n",
    "ax.set_xlabel('X Label')\n",
    "ax.set_ylabel('Y Label')\n",
    "ax.set_zlabel('Z Label')\n",
    "\n",
    "plt.show()\n"
   ]
  },
  {
   "cell_type": "code",
   "execution_count": 29,
   "metadata": {},
   "outputs": [
    {
     "data": {
      "text/plain": [
       "0       [1 14-ounce container vanilla ice cream, 2 das...\n",
       "1       [1/4 cup bourbon, 1/4 cup Dijon mustard, 4 tea...\n",
       "2       [1 ounce Cranberry and Citrus Sauce or other c...\n",
       "3       [Fresh mint leaves, 1 teaspoon simple syrup or...\n",
       "4       [2 ounces Wild Turkey bourbon, 1 ounce Firebal...\n",
       "5       [5½ pounds chicken wingettes, , 1 cup store-bo...\n",
       "6       [4 scoops vanilla bean ice cream, 1/2 ounce bo...\n",
       "7       [2 ounces bourbon, 1 ounce freshly squeezed gr...\n",
       "8       [1 cup whole milk, heated about 105°F to 115°F...\n",
       "9       [10.4 ounces salt 2 cups Diamond Crystal koshe...\n",
       "10      [Reserved neck and giblets from your turkey, 8...\n",
       "11      [1 ½ cups all-purpose flour, ¼ teaspoon fine s...\n",
       "12      [3/4 cup granulated sugar, 1/4 cup firmly pack...\n",
       "13      [3 scoops chocolate ice cream, 2 tablespoons m...\n",
       "14      [2 ounces rye whiskey or bourbon, 1 ounce swee...\n",
       "15      [1 teaspoon superfine sugar, 2 dashes angostur...\n",
       "16      [2 large eggs, 2 large egg yolks, 1/3 cup gran...\n",
       "17      [1/4 cup bourbon, 1/2 cup fish sauce, 1/2 cup ...\n",
       "18      [2 oranges, 2 quarts water, 8 teaspoons or 8 t...\n",
       "19      [3/4 cup tomato sauce, 1/4 cup bourbon, 1/4 cu...\n",
       "20      [1/2 cup small-dice bacon about 3 ounces, 1/2 ...\n",
       "21      [2 ounces rye or bourbon, 1/2 ounce freshly sq...\n",
       "22      [4 spiral-cut hot dogs, 4 hot dog buns, split,...\n",
       "23      [9 cups plain popped popcorn, 1 cup granulated...\n",
       "24      [2 medium or large powder-free latex gloves, 3...\n",
       "25      [1 cup shredded Monterey Jack cheese about 2 o...\n",
       "26      [12 jalapeño peppers, 8 ounces cream cheese, a...\n",
       "27      [30 pitted prunes about 8 ounces, 1 cup tawny ...\n",
       "28      [6 tablespoons mayonnaise, 3 tablespoons Creol...\n",
       "29      [4 pounds whole butternut squash about 2 mediu...\n",
       "                              ...                        \n",
       "4502    [1/3 cup light regular soy sauce, 2 1/2 tables...\n",
       "4503    [4 cups lightly packed, coarsely chopped spina...\n",
       "4513    [4 cups cake flour, 1 tablespoon plus 1 teaspo...\n",
       "4530    [1 medium acorn squash about 1 pound, 1 tables...\n",
       "4532    [2 pounds Brussels sprouts , ½ cup extra-virgi...\n",
       "4542    [1/3 cup distilled white vinegar, 1/3 cup gran...\n",
       "4543    [10 cups simmering water, 1/2 cup kosher salt,...\n",
       "4570    [4 strips bacon, medium dice, 5 pounds ground ...\n",
       "4580    [3/4 cup gingersnap cookie crumbs, 2 tablespoo...\n",
       "4581    [1 bottle chilled lager, 1 bottle chilled ging...\n",
       "4583    [1/3 cup passion fruit juice, 2 tablespoons pa...\n",
       "4584    [2 cups all-purpose flour, 3/4 teaspoon ground...\n",
       "4585    [1/4 cup whole milk, 2 tablespoons water, 1 1/...\n",
       "4591    [1 medium carrot, peeled, Ice, Salt, 6 ounces ...\n",
       "4592    [2 tablespoons heavy cream, 1/4 cup plain yogu...\n",
       "4593    [1/4 cup white miso, 3 tablespoons rice wine v...\n",
       "4594    [1 piece fresh ginger about 6 inches long, 1 c...\n",
       "4595    [2 tablespoons unsalted butter 1/4 stick, 3/4 ...\n",
       "4597    [1 3-inch piece fresh ginger, 2 cups granulate...\n",
       "4610    [2 ounces gin, 1/2 ounce freshly squeezed lemo...\n",
       "4613    [2 fresh figs, 1/2 ounce St-Germain elderflowe...\n",
       "4614    [1 pound frozen pineapple chunks, 2 cups ice, ...\n",
       "4615    [1 medium pineapple about 3 pounds, 6 ounces w...\n",
       "4616    [1 cup dark rum, such as Cruzan Black Strap or...\n",
       "4618    [1/4 cup plus 1 tablespoon Simple Syrup, 1/4 c...\n",
       "4619    [2 teaspoons cayenne pepper, 3/4 teaspoon papr...\n",
       "4622    [4 tablespoons unsalted butter 1/2 stick, 1/2 ...\n",
       "4624    [2 ounces 10 Cane rum, 2 mint sprigs, plus mor...\n",
       "4650    [1 3/4 cups light brown sugar, 1/8 teaspoon fi...\n",
       "4677    [1 1/2 cups freshly squeezed orange juice, 1/3...\n",
       "Name: ingredients, Length: 1912, dtype: object"
      ]
     },
     "execution_count": 29,
     "metadata": {},
     "output_type": "execute_result"
    }
   ],
   "source": [
    "df['ingredients']"
   ]
  },
  {
   "cell_type": "code",
   "execution_count": 30,
   "metadata": {},
   "outputs": [],
   "source": [
    "def clean_ingredients2(i_list):\n",
    "    temp = ' '.join(i_list)\n",
    "    tokens = word_tokenize(temp)\n",
    "    tagged = nltk.pos_tag(tokens)\n",
    "    nouns = [tag[0] for tag in tagged if tag[1][0]=='N']\n",
    "    cleaned = [w.lower() for w in nouns]\n",
    "    return cleaned\n"
   ]
  },
  {
   "cell_type": "code",
   "execution_count": 31,
   "metadata": {},
   "outputs": [],
   "source": [
    "df['ingredients_cleaned'] = df['ingredients'].apply(lambda x: clean_ingredients2(x))"
   ]
  },
  {
   "cell_type": "code",
   "execution_count": 35,
   "metadata": {},
   "outputs": [],
   "source": [
    "from nltk.corpus import stopwords\n",
    "stop = stopwords.words('english')"
   ]
  },
  {
   "cell_type": "code",
   "execution_count": 36,
   "metadata": {},
   "outputs": [
    {
     "ename": "NameError",
     "evalue": "name 'recommendations' is not defined",
     "output_type": "error",
     "traceback": [
      "\u001b[0;31m---------------------------------------------------------------------------\u001b[0m",
      "\u001b[0;31mNameError\u001b[0m                                 Traceback (most recent call last)",
      "\u001b[0;32m<ipython-input-36-a926c4b690c9>\u001b[0m in \u001b[0;36m<module>\u001b[0;34m()\u001b[0m\n\u001b[0;32m----> 1\u001b[0;31m \u001b[0mrecommendations\u001b[0m\u001b[0;34m[\u001b[0m\u001b[0;34m'description'\u001b[0m\u001b[0;34m]\u001b[0m\u001b[0;34m.\u001b[0m\u001b[0miloc\u001b[0m\u001b[0;34m[\u001b[0m\u001b[0;36m2\u001b[0m\u001b[0;34m]\u001b[0m\u001b[0;34m\u001b[0m\u001b[0m\n\u001b[0m",
      "\u001b[0;31mNameError\u001b[0m: name 'recommendations' is not defined"
     ]
    }
   ],
   "source": [
    "recommendations['description'].iloc[2]"
   ]
  },
  {
   "cell_type": "code",
   "execution_count": 37,
   "metadata": {},
   "outputs": [
    {
     "data": {
      "text/plain": [
       "[['Reserved neck and giblets from your turkey',\n",
       "  '8 tablespoons all-purpose flour',\n",
       "  '6 tablespoons peanut or canola oil',\n",
       "  '2 medium yellow onions, peeled and coarsely chopped',\n",
       "  '2 celery stalks, coarsely chopped',\n",
       "  '2 carrots, coarsely chopped',\n",
       "  '8 cups turkey stock or low-sodium chicken broth 2 quarts',\n",
       "  '3/4 cup bourbon',\n",
       "  '2 bay leaves',\n",
       "  '8 fresh sage leaves',\n",
       "  '2/3 cup heavy cream'],\n",
       " ['neck',\n",
       "  'giblets',\n",
       "  'turkey',\n",
       "  'tablespoons',\n",
       "  'tablespoons',\n",
       "  'peanut',\n",
       "  'oil',\n",
       "  'medium',\n",
       "  'onions',\n",
       "  'celery',\n",
       "  'stalks',\n",
       "  'carrots',\n",
       "  'cups',\n",
       "  'stock',\n",
       "  'low-sodium',\n",
       "  'chicken',\n",
       "  'quarts',\n",
       "  'cup',\n",
       "  'bourbon',\n",
       "  'bay',\n",
       "  'sage',\n",
       "  'cup',\n",
       "  'cream']]"
      ]
     },
     "execution_count": 37,
     "metadata": {},
     "output_type": "execute_result"
    }
   ],
   "source": [
    "idx = 10\n",
    "list(df[['ingredients','ingredients_cleaned']].iloc[idx])"
   ]
  },
  {
   "cell_type": "code",
   "execution_count": 38,
   "metadata": {},
   "outputs": [],
   "source": [
    "ingredients_set = df['ingredients']"
   ]
  },
  {
   "cell_type": "code",
   "execution_count": 39,
   "metadata": {},
   "outputs": [
    {
     "data": {
      "text/plain": [
       "0    [1 14-ounce container vanilla ice cream, 2 das...\n",
       "1    [1/4 cup bourbon, 1/4 cup Dijon mustard, 4 tea...\n",
       "2    [1 ounce Cranberry and Citrus Sauce or other c...\n",
       "3    [Fresh mint leaves, 1 teaspoon simple syrup or...\n",
       "4    [2 ounces Wild Turkey bourbon, 1 ounce Firebal...\n",
       "Name: ingredients, dtype: object"
      ]
     },
     "execution_count": 39,
     "metadata": {},
     "output_type": "execute_result"
    }
   ],
   "source": [
    "ingredients_set.head()"
   ]
  },
  {
   "cell_type": "code",
   "execution_count": 40,
   "metadata": {},
   "outputs": [],
   "source": [
    "ingredient_words = []\n",
    "for i in ingredients_set:\n",
    "    ingredient_words.append(i)"
   ]
  },
  {
   "cell_type": "code",
   "execution_count": 41,
   "metadata": {
    "scrolled": false
   },
   "outputs": [],
   "source": [
    "foods = []\n",
    "for i in ingredients_set:\n",
    "    foods += i\n",
    "    \n",
    "str_foods = \" \".join(foods)"
   ]
  },
  {
   "cell_type": "code",
   "execution_count": 42,
   "metadata": {},
   "outputs": [],
   "source": [
    "str_food = str_foods.split()"
   ]
  },
  {
   "cell_type": "code",
   "execution_count": 43,
   "metadata": {},
   "outputs": [
    {
     "data": {
      "text/plain": [
       "125034"
      ]
     },
     "execution_count": 43,
     "metadata": {},
     "output_type": "execute_result"
    }
   ],
   "source": [
    "from urllib import request\n",
    "from nltk.corpus import stopwords\n",
    "text = nltk.Text(foods)\n",
    "stop = stopwords.words('english')\n",
    "tokens = word_tokenize(str_foods)\n",
    "tokens = [t.lower() for t in tokens]\n",
    "len(tokens)"
   ]
  },
  {
   "cell_type": "code",
   "execution_count": 44,
   "metadata": {},
   "outputs": [
    {
     "name": "stdout",
     "output_type": "stream",
     "text": [
      "Kosher salt Freshly ground black pepper; Salt Freshly ground black\n",
      "pepper; 1/2 teaspoon kosher salt, plus more as needed 1/4 teaspoon\n",
      "freshly ground black pepper, plus more as needed; Kosher salt, to\n",
      "taste Freshly ground black pepper, to taste; kosher salt freshly\n",
      "ground black pepper; Zest of 1 lime Juice of 2 limes; 2 tablespoons\n",
      "light brown sugar 1 tablespoon freshly grated ginger; 1/4 cup soy\n",
      "sauce or tamari 1/4 cup mirin; 3 tablespoons cider vinegar 3\n",
      "tablespoons Worcestershire sauce; 1 tablespoon freshly grated ginger 3\n",
      "cloves garlic, minced; 1 1/2 cups ketchup 1/2 cup packed dark brown\n",
      "sugar; 1/3 cup light corn syrup 1/3 cup water; 12 eggs 6 tablespoons\n",
      "mayonnaise; 1/4 cup mirin 2 tablespoons light brown sugar; 1 1/4-ounce\n",
      "packet active dry yeast 2 1/4 teaspoons 1/4 cup plus 1 teaspoon\n",
      "granulated sugar; 1 3-ounce carrot, peeled and cut into matchsticks\n",
      "1/2 3-ounce daikon radish, peeled and cut into matchsticks; 1 large\n",
      "carrot, peeled and cut into matchsticks 1 small red bell pepper,\n",
      "stemmed, seeded, and cut into small slices; 1 or 2 jalapeños, very\n",
      "thinly sliced optional 1/2 cup fresh cilantro, basil, and/or mint\n",
      "leaves small leaves; 1 small garlic clove, finely chopped 1/2 carrot,\n",
      "peeled and cut into small, thin matchsticks; 1/2 English cucumber,\n",
      "very thinly sliced 1 or 2 jalapeños, very thinly sliced optional\n"
     ]
    }
   ],
   "source": [
    "text.collocations()"
   ]
  },
  {
   "cell_type": "code",
   "execution_count": 45,
   "metadata": {},
   "outputs": [],
   "source": [
    "remove_words = ['⅛','1/3-inch','3-1/2-ounce','8-','7-1/2-inch-long','“','10-inch','life','mark,''1½-','ml',\n",
    "                '1/2-inch-long','midsections','1⁄2','11-ounce','i.e.','750','10-12','–','6–6','32-ounce',';',\n",
    "                'grade','pint-size','2-inch-wide','1/2-inches','120°f','best','34','lb','za','13-','3-pound',\n",
    "                '20-ounce','170','e','trimmed','container','115°F','10.4','3/4-inch','15-pound','12-','diamond',\n",
    "                'squeezed','baby','optional','plastic','1/4-ounce','105°F','whole','¾','1½','packed','1∕3','½',\n",
    "                'store-bought','5½','’','14-ounce','good-quality','link','intro','recipe','cup','cut','cups',\n",
    "                'teaspoon','teaspoons','and','chopped','or','to','into', 'above',',','¼','1','2','3','4','5','6',\n",
    "                '7','8','9','10','11','12','1/8','tablespoons','tablespoon','ounces','ounce','ground','1/2','3/4','2/3','1/4',\n",
    "                '1/3','fresh','finely','black','plus','large','granulated','ground','room','temperature','}','small',\n",
    "                'white','thinly','coarsely','12','medium','needed','pounded','grated','peeled','freshly','pounds',\n",
    "                'extract','fine','halved','dry','eggs','minced','sliced','slices','red','grated','all-purpose',\n",
    "                'yellow','toasted','dry','light','heavy','pinched','shredded','hot','extra','half','serving',\n",
    "                'removed','sea','dark','tomatoes','1-inch','frozen','lengthwise','white','crumbled','crushed',\n",
    "                'cold','melted','1/2-inch','parts','thin','bell','diced','seeded','see','bunch','cooked','pinch',\n",
    "                'low-sodium','thick','taste']\n",
    "for i in remove_words:\n",
    "    stop.append(i)"
   ]
  },
  {
   "cell_type": "code",
   "execution_count": 46,
   "metadata": {},
   "outputs": [],
   "source": [
    "def stop_words(lis):\n",
    "    new_list = []\n",
    "    for word in tokens:  # iterating on a copy since removing will mess things up\n",
    "        if word not in stop:\n",
    "            new_list.append(word)\n",
    "    return new_list\n",
    "            "
   ]
  },
  {
   "cell_type": "code",
   "execution_count": 47,
   "metadata": {},
   "outputs": [],
   "source": [
    "list_of_words = stop_words(tokens)\n",
    "list_of_words = list(map(str.lower,list_of_words))\n",
    "set_of_ingredients = set(list_of_words)"
   ]
  },
  {
   "cell_type": "code",
   "execution_count": 48,
   "metadata": {
    "scrolled": false
   },
   "outputs": [],
   "source": [
    "ingredient_string = ' '.join(list_of_words)"
   ]
  },
  {
   "cell_type": "code",
   "execution_count": 49,
   "metadata": {},
   "outputs": [],
   "source": [
    "tokens_ingredients = word_tokenize(ingredient_string)"
   ]
  },
  {
   "cell_type": "code",
   "execution_count": 50,
   "metadata": {},
   "outputs": [],
   "source": [
    "import nltk\n",
    "from nltk import FreqDist\n",
    "\n",
    "fdist1 = FreqDist(tokens_ingredients)"
   ]
  },
  {
   "cell_type": "code",
   "execution_count": 51,
   "metadata": {},
   "outputs": [],
   "source": [
    "\n",
    "cols_to_use = [i[0] for i in fdist1.most_common(100)]"
   ]
  },
  {
   "cell_type": "code",
   "execution_count": 52,
   "metadata": {},
   "outputs": [
    {
     "data": {
      "text/html": [
       "<div>\n",
       "<style scoped>\n",
       "    .dataframe tbody tr th:only-of-type {\n",
       "        vertical-align: middle;\n",
       "    }\n",
       "\n",
       "    .dataframe tbody tr th {\n",
       "        vertical-align: top;\n",
       "    }\n",
       "\n",
       "    .dataframe thead th {\n",
       "        text-align: right;\n",
       "    }\n",
       "</style>\n",
       "<table border=\"1\" class=\"dataframe\">\n",
       "  <thead>\n",
       "    <tr style=\"text-align: right;\">\n",
       "      <th></th>\n",
       "      <th>base_url</th>\n",
       "      <th>description</th>\n",
       "      <th>ingredients</th>\n",
       "      <th>instructions</th>\n",
       "      <th>recipe_url</th>\n",
       "      <th>num_ingredients</th>\n",
       "      <th>num_instructions</th>\n",
       "      <th>topic</th>\n",
       "      <th>is_dairy</th>\n",
       "      <th>is_meat</th>\n",
       "      <th>cluster_group</th>\n",
       "      <th>ingredients_cleaned</th>\n",
       "      <th>recipe_id</th>\n",
       "    </tr>\n",
       "  </thead>\n",
       "  <tbody>\n",
       "    <tr>\n",
       "      <th>0</th>\n",
       "      <td>https://www.chowhound.com/recipes/bourbon</td>\n",
       "      <td>[We’ve gotten all heretical and combined the f...</td>\n",
       "      <td>[1 14-ounce container vanilla ice cream, 2 das...</td>\n",
       "      <td>[(0, Share on Facebook), (1, Share on Reddit),...</td>\n",
       "      <td>https://www.chowhound.com/recipes/bourbon-old-...</td>\n",
       "      <td>5</td>\n",
       "      <td>5</td>\n",
       "      <td>bourbon</td>\n",
       "      <td>1</td>\n",
       "      <td>0</td>\n",
       "      <td>1</td>\n",
       "      <td>[container, vanilla, ice, cream, dashes, bitte...</td>\n",
       "      <td>0</td>\n",
       "    </tr>\n",
       "    <tr>\n",
       "      <th>1</th>\n",
       "      <td>https://www.chowhound.com/recipes/bourbon</td>\n",
       "      <td>[Flank steak is delicious when it’s marinated ...</td>\n",
       "      <td>[1/4 cup bourbon, 1/4 cup Dijon mustard, 4 tea...</td>\n",
       "      <td>[(0, 1Combine bourbon, mustard, Worcestershire...</td>\n",
       "      <td>https://www.chowhound.com/recipes/bourbon-mari...</td>\n",
       "      <td>6</td>\n",
       "      <td>8</td>\n",
       "      <td>bourbon</td>\n",
       "      <td>0</td>\n",
       "      <td>1</td>\n",
       "      <td>4</td>\n",
       "      <td>[cup, bourbon, cup, dijon, teaspoons, worceste...</td>\n",
       "      <td>1</td>\n",
       "    </tr>\n",
       "    <tr>\n",
       "      <th>2</th>\n",
       "      <td>https://www.chowhound.com/recipes/bourbon</td>\n",
       "      <td>[If an Amaretto Sour is considered dangerous f...</td>\n",
       "      <td>[1 ounce Cranberry and Citrus Sauce or other c...</td>\n",
       "      <td>[(0, 1Combine cranberry sauce, bourbon, and am...</td>\n",
       "      <td>https://www.chowhound.com/recipes/cranberry-cu...</td>\n",
       "      <td>6</td>\n",
       "      <td>7</td>\n",
       "      <td>bourbon</td>\n",
       "      <td>0</td>\n",
       "      <td>0</td>\n",
       "      <td>9</td>\n",
       "      <td>[ounce, cranberry, citrus, sauce, cranberry, o...</td>\n",
       "      <td>2</td>\n",
       "    </tr>\n",
       "    <tr>\n",
       "      <th>3</th>\n",
       "      <td>https://www.chowhound.com/recipes/bourbon</td>\n",
       "      <td>[A classic cocktail recipe of bourbon, mint, a...</td>\n",
       "      <td>[Fresh mint leaves, 1 teaspoon simple syrup or...</td>\n",
       "      <td>[(0, 1Muddle 12 to 20 mint leaves with simple ...</td>\n",
       "      <td>https://www.chowhound.com/recipes/mint-julep-1...</td>\n",
       "      <td>4</td>\n",
       "      <td>7</td>\n",
       "      <td>bourbon</td>\n",
       "      <td>0</td>\n",
       "      <td>0</td>\n",
       "      <td>9</td>\n",
       "      <td>[mint, teaspoon, syrup, superfine, sugar, ounc...</td>\n",
       "      <td>3</td>\n",
       "    </tr>\n",
       "    <tr>\n",
       "      <th>4</th>\n",
       "      <td>https://www.chowhound.com/recipes/bourbon</td>\n",
       "      <td>[Ever measured your drink pours by counting ou...</td>\n",
       "      <td>[2 ounces Wild Turkey bourbon, 1 ounce Firebal...</td>\n",
       "      <td>[(0, 1Fill a tumbler with ice.), (1, 2Pour in ...</td>\n",
       "      <td>https://www.chowhound.com/recipes/wild-turkey-...</td>\n",
       "      <td>4</td>\n",
       "      <td>8</td>\n",
       "      <td>bourbon</td>\n",
       "      <td>0</td>\n",
       "      <td>0</td>\n",
       "      <td>9</td>\n",
       "      <td>[ounces, wild, turkey, ounce, fireball, cinnam...</td>\n",
       "      <td>4</td>\n",
       "    </tr>\n",
       "  </tbody>\n",
       "</table>\n",
       "</div>"
      ],
      "text/plain": [
       "                                    base_url  \\\n",
       "0  https://www.chowhound.com/recipes/bourbon   \n",
       "1  https://www.chowhound.com/recipes/bourbon   \n",
       "2  https://www.chowhound.com/recipes/bourbon   \n",
       "3  https://www.chowhound.com/recipes/bourbon   \n",
       "4  https://www.chowhound.com/recipes/bourbon   \n",
       "\n",
       "                                         description  \\\n",
       "0  [We’ve gotten all heretical and combined the f...   \n",
       "1  [Flank steak is delicious when it’s marinated ...   \n",
       "2  [If an Amaretto Sour is considered dangerous f...   \n",
       "3  [A classic cocktail recipe of bourbon, mint, a...   \n",
       "4  [Ever measured your drink pours by counting ou...   \n",
       "\n",
       "                                         ingredients  \\\n",
       "0  [1 14-ounce container vanilla ice cream, 2 das...   \n",
       "1  [1/4 cup bourbon, 1/4 cup Dijon mustard, 4 tea...   \n",
       "2  [1 ounce Cranberry and Citrus Sauce or other c...   \n",
       "3  [Fresh mint leaves, 1 teaspoon simple syrup or...   \n",
       "4  [2 ounces Wild Turkey bourbon, 1 ounce Firebal...   \n",
       "\n",
       "                                        instructions  \\\n",
       "0  [(0, Share on Facebook), (1, Share on Reddit),...   \n",
       "1  [(0, 1Combine bourbon, mustard, Worcestershire...   \n",
       "2  [(0, 1Combine cranberry sauce, bourbon, and am...   \n",
       "3  [(0, 1Muddle 12 to 20 mint leaves with simple ...   \n",
       "4  [(0, 1Fill a tumbler with ice.), (1, 2Pour in ...   \n",
       "\n",
       "                                          recipe_url  num_ingredients  \\\n",
       "0  https://www.chowhound.com/recipes/bourbon-old-...                5   \n",
       "1  https://www.chowhound.com/recipes/bourbon-mari...                6   \n",
       "2  https://www.chowhound.com/recipes/cranberry-cu...                6   \n",
       "3  https://www.chowhound.com/recipes/mint-julep-1...                4   \n",
       "4  https://www.chowhound.com/recipes/wild-turkey-...                4   \n",
       "\n",
       "   num_instructions    topic  is_dairy  is_meat  cluster_group  \\\n",
       "0                 5  bourbon         1        0              1   \n",
       "1                 8  bourbon         0        1              4   \n",
       "2                 7  bourbon         0        0              9   \n",
       "3                 7  bourbon         0        0              9   \n",
       "4                 8  bourbon         0        0              9   \n",
       "\n",
       "                                 ingredients_cleaned  recipe_id  \n",
       "0  [container, vanilla, ice, cream, dashes, bitte...          0  \n",
       "1  [cup, bourbon, cup, dijon, teaspoons, worceste...          1  \n",
       "2  [ounce, cranberry, citrus, sauce, cranberry, o...          2  \n",
       "3  [mint, teaspoon, syrup, superfine, sugar, ounc...          3  \n",
       "4  [ounces, wild, turkey, ounce, fireball, cinnam...          4  "
      ]
     },
     "execution_count": 52,
     "metadata": {},
     "output_type": "execute_result"
    }
   ],
   "source": [
    "df['recipe_id'] = df.index\n",
    "df.topic = df.topic.apply(lambda x: x.replace('-','_'))\n",
    "df.head()"
   ]
  },
  {
   "cell_type": "code",
   "execution_count": 53,
   "metadata": {},
   "outputs": [],
   "source": [
    "fields_to_keep = ['num_ingredients','num_instructions','topic','is_dairy','is_meat','ingredients_cleaned']\n",
    "ingredient_df = df[fields_to_keep]"
   ]
  },
  {
   "cell_type": "code",
   "execution_count": 54,
   "metadata": {},
   "outputs": [
    {
     "data": {
      "text/plain": [
       "(1912, 6)"
      ]
     },
     "execution_count": 54,
     "metadata": {},
     "output_type": "execute_result"
    }
   ],
   "source": [
    "ingredient_df.shape"
   ]
  },
  {
   "cell_type": "code",
   "execution_count": 55,
   "metadata": {},
   "outputs": [
    {
     "data": {
      "text/plain": [
       "1912"
      ]
     },
     "execution_count": 55,
     "metadata": {},
     "output_type": "execute_result"
    }
   ],
   "source": [
    "len(df.recipe_url.unique())"
   ]
  },
  {
   "cell_type": "code",
   "execution_count": 56,
   "metadata": {},
   "outputs": [
    {
     "data": {
      "text/plain": [
       "['num_ingredients',\n",
       " 'num_instructions',\n",
       " 'topic',\n",
       " 'is_dairy',\n",
       " 'is_meat',\n",
       " 'ingredients_cleaned']"
      ]
     },
     "execution_count": 56,
     "metadata": {},
     "output_type": "execute_result"
    }
   ],
   "source": [
    "list(ingredient_df)"
   ]
  },
  {
   "cell_type": "code",
   "execution_count": 57,
   "metadata": {},
   "outputs": [],
   "source": [
    "ingredient_df = pd.get_dummies(ingredient_df,prefix='topic',columns=['topic'])"
   ]
  },
  {
   "cell_type": "code",
   "execution_count": 58,
   "metadata": {},
   "outputs": [],
   "source": [
    "for col in cols_to_use:\n",
    "    ingredient_df[col] = 0\n",
    "    \n",
    "for col in cols_to_use:\n",
    "    ingredient_df[col] = ingredient_df['ingredients_cleaned'].apply(lambda x: col in x).astype(int)"
   ]
  },
  {
   "cell_type": "code",
   "execution_count": 59,
   "metadata": {},
   "outputs": [],
   "source": [
    "ingredient_df.drop('ingredients_cleaned',axis=1,inplace=True)"
   ]
  },
  {
   "cell_type": "code",
   "execution_count": 60,
   "metadata": {
    "scrolled": true
   },
   "outputs": [],
   "source": [
    "from sklearn.metrics.pairwise import cosine_distances\n",
    "from scipy.spatial.distance import euclidean\n",
    "def recipe_recommender(list_of_ingredients, num_rec=3):\n",
    "    vec = pd.DataFrame([{\n",
    "        'num_ingredients': ingredient_df.num_ingredients.mean(),\n",
    "        'num_instructions': ingredient_df.num_instructions.mean(),\n",
    "        'is_dairy': 0,\n",
    "        'is_meat': 0\n",
    "    }])\n",
    "    for col in list(ingredient_df):\n",
    "        if 'topic_' in col:\n",
    "            vec[col] = 0\n",
    "        elif col in list_of_ingredients:\n",
    "            vec[col] = 1\n",
    "        else:\n",
    "            vec[col] = 0\n",
    "    vec = vec[list(ingredient_df)]\n",
    "    \n",
    "    rank_df = ingredient_df\n",
    "    rank_df['score'] = rank_df.apply(lambda row: euclidean(np.array(vec).reshape(1, -1),np.array(row).reshape(1, -1)), axis=1)\n",
    "    rank_df = rank_df.sort_values('score',ascending=False).reset_index()\n",
    "    rank_df.rename(columns={'index':'recipe_id'},inplace=True)\n",
    "    final = rank_df[['recipe_id']].head(num_rec).merge(df, on = 'recipe_id')\n",
    "    return final\n"
   ]
  },
  {
   "cell_type": "code",
   "execution_count": 61,
   "metadata": {},
   "outputs": [],
   "source": [
    "recommendations = recipe_recommender(['potato'])"
   ]
  },
  {
   "cell_type": "code",
   "execution_count": 62,
   "metadata": {},
   "outputs": [
    {
     "data": {
      "text/plain": [
       "['Packed full of beguiling flavors and textures, this quinoa tabbouleh salad from San Francisco’s State Bird Provisions’ cookbook (nominated for a 2018 James Beard Foundation Book Award) is uniquely tasty and compels you to keep eating til the very last bite. The quinoa is fragrant with rosemary, garlic, and Meyer lemon, and makes a fluffy base for luscious dashi-infused shiitake mushrooms, firm ahi tuna marinated in a white soy sauce-lime vinaigrette, and a creamy bonito-rosemary aioli. Parsley brings freshness and a fried quinoa-pumpkin seed mixture adds crunch. And while, yes, there are a lot of ingredients—and several steps—to this recipe, you can make most parts of it in advance and spread the work out over a few days.',\n",
       " 'For more inventive State Bird Provisions dishes, try their Black Butter-Balsamic Figs with Basil and Fontina Fondue recipe and Porcini Fried Rice with Balsamic Spring Onions, Ramps, and Porcini Aioli recipe.']"
      ]
     },
     "execution_count": 62,
     "metadata": {},
     "output_type": "execute_result"
    }
   ],
   "source": [
    "recommendations['description'].iloc[0]"
   ]
  },
  {
   "cell_type": "code",
   "execution_count": 63,
   "metadata": {},
   "outputs": [],
   "source": [
    "x = ingredient_df\n",
    "standard_scaler = preprocessing.MinMaxScaler()\n",
    "x_scaled = standard_scaler.fit_transform(x)\n",
    "x_scaled = pd.DataFrame(x_scaled)"
   ]
  },
  {
   "cell_type": "code",
   "execution_count": 64,
   "metadata": {},
   "outputs": [
    {
     "name": "stdout",
     "output_type": "stream",
     "text": [
      "Fitting for 2 clusters\n",
      "Fitting for 3 clusters\n",
      "Fitting for 4 clusters\n",
      "Fitting for 5 clusters\n",
      "Fitting for 6 clusters\n",
      "Fitting for 7 clusters\n",
      "Fitting for 8 clusters\n",
      "Fitting for 9 clusters\n",
      "Fitting for 10 clusters\n",
      "Fitting for 11 clusters\n",
      "Fitting for 12 clusters\n",
      "Fitting for 13 clusters\n",
      "Fitting for 14 clusters\n",
      "Fitting for 15 clusters\n",
      "Fitting for 16 clusters\n",
      "Fitting for 17 clusters\n",
      "Fitting for 18 clusters\n",
      "Fitting for 19 clusters\n"
     ]
    },
    {
     "data": {
      "image/png": "[encoded data removed]",
      "text/plain": [
       "<Figure size 432x288 with 1 Axes>"
      ]
     },
     "metadata": {},
     "output_type": "display_data"
    }
   ],
   "source": [
    "distortions = []\n",
    "K = range(2,20)\n",
    "for k in K:\n",
    "    print('Fitting for ' +str(k)+' clusters')\n",
    "    kmeans = KMeans(n_clusters=k).fit(x_scaled)\n",
    "    kmeans.fit(x_scaled)\n",
    "    distortions.append(sum(np.min(cdist(x_scaled,kmeans.cluster_centers_,'euclidean'),axis=1))/x_scaled.shape[0])\n",
    "    \n",
    "plt.plot(K,distortions,'bx-')\n",
    "plt.grid(True)\n",
    "plt.xlabel('k')\n",
    "plt.ylabel('Distortion')\n",
    "plt.title('The Elbow Method showing the optimal k')\n",
    "\n",
    "plt.show()"
   ]
  },
  {
   "cell_type": "code",
   "execution_count": 65,
   "metadata": {},
   "outputs": [],
   "source": [
    "cluster_map = KMeans(n_clusters=15).fit(x_scaled)\n",
    "df['cluster_group'] = cluster_map.predict(x_scaled)\n"
   ]
  },
  {
   "cell_type": "code",
   "execution_count": 66,
   "metadata": {},
   "outputs": [
    {
     "data": {
      "text/plain": [
       "0     206\n",
       "14    173\n",
       "8     160\n",
       "5     151\n",
       "4     146\n",
       "6     139\n",
       "3     136\n",
       "1     131\n",
       "9     129\n",
       "12    127\n",
       "10     95\n",
       "11     91\n",
       "13     86\n",
       "2      73\n",
       "7      69\n",
       "Name: cluster_group, dtype: int64"
      ]
     },
     "execution_count": 66,
     "metadata": {},
     "output_type": "execute_result"
    }
   ],
   "source": [
    "df.cluster_group.value_counts()"
   ]
  },
  {
   "cell_type": "code",
   "execution_count": 67,
   "metadata": {},
   "outputs": [
    {
     "data": {
      "text/html": [
       "<div>\n",
       "<style scoped>\n",
       "    .dataframe tbody tr th:only-of-type {\n",
       "        vertical-align: middle;\n",
       "    }\n",
       "\n",
       "    .dataframe tbody tr th {\n",
       "        vertical-align: top;\n",
       "    }\n",
       "\n",
       "    .dataframe thead th {\n",
       "        text-align: right;\n",
       "    }\n",
       "</style>\n",
       "<table border=\"1\" class=\"dataframe\">\n",
       "  <thead>\n",
       "    <tr style=\"text-align: right;\">\n",
       "      <th></th>\n",
       "      <th>num_ingredients</th>\n",
       "      <th>num_instructions</th>\n",
       "      <th>is_dairy</th>\n",
       "      <th>is_meat</th>\n",
       "      <th>topic_4th_of_july</th>\n",
       "      <th>topic_academy_awards</th>\n",
       "      <th>topic_aioli</th>\n",
       "      <th>topic_allspice</th>\n",
       "      <th>topic_almonds</th>\n",
       "      <th>topic_anchovy</th>\n",
       "      <th>...</th>\n",
       "      <th>carrots</th>\n",
       "      <th>cider</th>\n",
       "      <th>mint</th>\n",
       "      <th>sprigs</th>\n",
       "      <th>paste</th>\n",
       "      <th>parmesan</th>\n",
       "      <th>flakes</th>\n",
       "      <th>cayenne</th>\n",
       "      <th>beaten</th>\n",
       "      <th>score</th>\n",
       "    </tr>\n",
       "  </thead>\n",
       "  <tbody>\n",
       "    <tr>\n",
       "      <th>3292</th>\n",
       "      <td>3</td>\n",
       "      <td>12</td>\n",
       "      <td>0</td>\n",
       "      <td>0</td>\n",
       "      <td>0</td>\n",
       "      <td>0</td>\n",
       "      <td>0</td>\n",
       "      <td>0</td>\n",
       "      <td>0</td>\n",
       "      <td>0</td>\n",
       "      <td>...</td>\n",
       "      <td>0</td>\n",
       "      <td>0</td>\n",
       "      <td>0</td>\n",
       "      <td>0</td>\n",
       "      <td>1</td>\n",
       "      <td>0</td>\n",
       "      <td>0</td>\n",
       "      <td>1</td>\n",
       "      <td>0</td>\n",
       "      <td>12.529964</td>\n",
       "    </tr>\n",
       "    <tr>\n",
       "      <th>675</th>\n",
       "      <td>16</td>\n",
       "      <td>10</td>\n",
       "      <td>0</td>\n",
       "      <td>0</td>\n",
       "      <td>0</td>\n",
       "      <td>0</td>\n",
       "      <td>0</td>\n",
       "      <td>0</td>\n",
       "      <td>0</td>\n",
       "      <td>0</td>\n",
       "      <td>...</td>\n",
       "      <td>0</td>\n",
       "      <td>0</td>\n",
       "      <td>0</td>\n",
       "      <td>0</td>\n",
       "      <td>0</td>\n",
       "      <td>0</td>\n",
       "      <td>0</td>\n",
       "      <td>0</td>\n",
       "      <td>0</td>\n",
       "      <td>19.131126</td>\n",
       "    </tr>\n",
       "    <tr>\n",
       "      <th>2080</th>\n",
       "      <td>7</td>\n",
       "      <td>5</td>\n",
       "      <td>0</td>\n",
       "      <td>0</td>\n",
       "      <td>0</td>\n",
       "      <td>0</td>\n",
       "      <td>0</td>\n",
       "      <td>0</td>\n",
       "      <td>0</td>\n",
       "      <td>0</td>\n",
       "      <td>...</td>\n",
       "      <td>0</td>\n",
       "      <td>0</td>\n",
       "      <td>0</td>\n",
       "      <td>0</td>\n",
       "      <td>0</td>\n",
       "      <td>0</td>\n",
       "      <td>0</td>\n",
       "      <td>0</td>\n",
       "      <td>0</td>\n",
       "      <td>9.000000</td>\n",
       "    </tr>\n",
       "    <tr>\n",
       "      <th>416</th>\n",
       "      <td>16</td>\n",
       "      <td>12</td>\n",
       "      <td>0</td>\n",
       "      <td>0</td>\n",
       "      <td>0</td>\n",
       "      <td>0</td>\n",
       "      <td>0</td>\n",
       "      <td>0</td>\n",
       "      <td>0</td>\n",
       "      <td>0</td>\n",
       "      <td>...</td>\n",
       "      <td>0</td>\n",
       "      <td>0</td>\n",
       "      <td>0</td>\n",
       "      <td>0</td>\n",
       "      <td>0</td>\n",
       "      <td>0</td>\n",
       "      <td>0</td>\n",
       "      <td>1</td>\n",
       "      <td>0</td>\n",
       "      <td>20.223748</td>\n",
       "    </tr>\n",
       "    <tr>\n",
       "      <th>2888</th>\n",
       "      <td>7</td>\n",
       "      <td>9</td>\n",
       "      <td>1</td>\n",
       "      <td>0</td>\n",
       "      <td>0</td>\n",
       "      <td>0</td>\n",
       "      <td>0</td>\n",
       "      <td>0</td>\n",
       "      <td>0</td>\n",
       "      <td>0</td>\n",
       "      <td>...</td>\n",
       "      <td>0</td>\n",
       "      <td>0</td>\n",
       "      <td>0</td>\n",
       "      <td>0</td>\n",
       "      <td>0</td>\n",
       "      <td>0</td>\n",
       "      <td>0</td>\n",
       "      <td>0</td>\n",
       "      <td>0</td>\n",
       "      <td>11.704700</td>\n",
       "    </tr>\n",
       "  </tbody>\n",
       "</table>\n",
       "<p>5 rows × 303 columns</p>\n",
       "</div>"
      ],
      "text/plain": [
       "      num_ingredients  num_instructions  is_dairy  is_meat  topic_4th_of_july  \\\n",
       "3292                3                12         0        0                  0   \n",
       "675                16                10         0        0                  0   \n",
       "2080                7                 5         0        0                  0   \n",
       "416                16                12         0        0                  0   \n",
       "2888                7                 9         1        0                  0   \n",
       "\n",
       "      topic_academy_awards  topic_aioli  topic_allspice  topic_almonds  \\\n",
       "3292                     0            0               0              0   \n",
       "675                      0            0               0              0   \n",
       "2080                     0            0               0              0   \n",
       "416                      0            0               0              0   \n",
       "2888                     0            0               0              0   \n",
       "\n",
       "      topic_anchovy    ...      carrots  cider  mint  sprigs  paste  parmesan  \\\n",
       "3292              0    ...            0      0     0       0      1         0   \n",
       "675               0    ...            0      0     0       0      0         0   \n",
       "2080              0    ...            0      0     0       0      0         0   \n",
       "416               0    ...            0      0     0       0      0         0   \n",
       "2888              0    ...            0      0     0       0      0         0   \n",
       "\n",
       "      flakes  cayenne  beaten      score  \n",
       "3292       0        1       0  12.529964  \n",
       "675        0        0       0  19.131126  \n",
       "2080       0        0       0   9.000000  \n",
       "416        0        1       0  20.223748  \n",
       "2888       0        0       0  11.704700  \n",
       "\n",
       "[5 rows x 303 columns]"
      ]
     },
     "execution_count": 67,
     "metadata": {},
     "output_type": "execute_result"
    }
   ],
   "source": [
    "ingredient_df.sample(5)"
   ]
  },
  {
   "cell_type": "code",
   "execution_count": null,
   "metadata": {},
   "outputs": [],
   "source": []
  },
  {
   "cell_type": "code",
   "execution_count": 68,
   "metadata": {},
   "outputs": [
    {
     "name": "stdout",
     "output_type": "stream",
     "text": [
      "3331      almonds\n",
      "3810     cardamom\n",
      "1618      peaches\n",
      "310     chocolate\n",
      "281         salad\n",
      "Name: topic, dtype: object\n",
      "602     lemon_juice\n",
      "657       side_dish\n",
      "2538        arugula\n",
      "1798        parsley\n",
      "2358           mint\n",
      "Name: topic, dtype: object\n",
      "2970         okra\n",
      "2423    hot_sauce\n",
      "492         vegan\n",
      "1333         fish\n",
      "3860         soup\n",
      "Name: topic, dtype: object\n",
      "2983      chives\n",
      "1925       herbs\n",
      "899       yogurt\n",
      "3798    cardamom\n",
      "1069    parmesan\n",
      "Name: topic, dtype: object\n",
      "2202      tequila\n",
      "2220      tequila\n",
      "48      halloween\n",
      "1201        drink\n",
      "1196        drink\n",
      "Name: topic, dtype: object\n",
      "450     4th_of_july\n",
      "2512         lemons\n",
      "3118       cherries\n",
      "3796      ice_cream\n",
      "1725         spring\n",
      "Name: topic, dtype: object\n",
      "3835    horseradish\n",
      "3434         garlic\n",
      "4477         dallas\n",
      "2240          basil\n",
      "2030      cucumbers\n",
      "Name: topic, dtype: object\n",
      "527         salt\n",
      "2451       miami\n",
      "3017       beets\n",
      "2634    sriracha\n",
      "1389        tuna\n",
      "Name: topic, dtype: object\n",
      "462      gluten_free\n",
      "3778       ice_cream\n",
      "3312         almonds\n",
      "113     kid_friendly\n",
      "33         halloween\n",
      "Name: topic, dtype: object\n",
      "3704    barbecuing\n",
      "547        vinegar\n",
      "299          salad\n",
      "1906         aioli\n",
      "3692    barbecuing\n",
      "Name: topic, dtype: object\n",
      "2985        chives\n",
      "810       stir_fry\n",
      "554      scallions\n",
      "559      scallions\n",
      "4168    fish_sauce\n",
      "Name: topic, dtype: object\n",
      "373           bacon\n",
      "2142         dinner\n",
      "1716         spring\n",
      "1840    breadcrumbs\n",
      "1058       parmesan\n",
      "Name: topic, dtype: object\n",
      "276            salad\n",
      "1866     los_angeles\n",
      "3318         almonds\n",
      "2940    bell_peppers\n",
      "551        scallions\n",
      "Name: topic, dtype: object\n",
      "2063        creole\n",
      "3928          peas\n",
      "630        paprika\n",
      "203     make_ahead\n",
      "1504     main_dish\n",
      "Name: topic, dtype: object\n",
      "137        molasses\n",
      "3820    horseradish\n",
      "1861    los_angeles\n",
      "4595         ginger\n",
      "3379          pasta\n",
      "Name: topic, dtype: object\n"
     ]
    }
   ],
   "source": [
    "for i in range(0,15):\n",
    "    print(df[df.cluster_group==i]['topic'].sample(5))"
   ]
  },
  {
   "cell_type": "code",
   "execution_count": 69,
   "metadata": {},
   "outputs": [
    {
     "name": "stdout",
     "output_type": "stream",
     "text": [
      "2445             miami\n",
      "834               corn\n",
      "1175          eggplant\n",
      "1860       los_angeles\n",
      "4313    academy_awards\n",
      "Name: topic, dtype: object\n",
      "3850             soup\n",
      "2970             okra\n",
      "688     san_francisco\n",
      "3693       barbecuing\n",
      "708     san_francisco\n",
      "Name: topic, dtype: object\n",
      "1821    breadcrumbs\n",
      "631       side_dish\n",
      "1120        popcorn\n",
      "2892        lobster\n",
      "1749          tarts\n",
      "Name: topic, dtype: object\n",
      "4677     lime_juice\n",
      "3478     triple_sec\n",
      "7           bourbon\n",
      "3463     triple_sec\n",
      "4610    new_orleans\n",
      "Name: topic, dtype: object\n",
      "1968    baking_soda\n",
      "330       chocolate\n",
      "4151        cookies\n",
      "643       side_dish\n",
      "3510         baking\n",
      "Name: topic, dtype: object\n",
      "1014    steak_ingredients\n",
      "1171             eggplant\n",
      "2436                miami\n",
      "170                summer\n",
      "1101            christmas\n",
      "Name: topic, dtype: object\n",
      "937           fusion\n",
      "211     tomato_paste\n",
      "3599         chicken\n",
      "1540      thai_basil\n",
      "3428          garlic\n",
      "Name: topic, dtype: object\n",
      "1863    los_angeles\n",
      "1889        camping\n",
      "3300          candy\n",
      "519            salt\n",
      "498           vegan\n",
      "Name: topic, dtype: object\n",
      "1399           tuna\n",
      "4191       avocados\n",
      "358     fathers_day\n",
      "1913          aioli\n",
      "3115       cherries\n",
      "Name: topic, dtype: object\n",
      "4502    chinese_new_year\n",
      "1150             chinese\n",
      "3544                ribs\n",
      "544              vinegar\n",
      "1335                fish\n",
      "Name: topic, dtype: object\n",
      "399             eggs\n",
      "2120          shrimp\n",
      "3038          spices\n",
      "188       make_ahead\n",
      "216     tomato_paste\n",
      "Name: topic, dtype: object\n",
      "4453      white_wine\n",
      "3423          garlic\n",
      "181          hot_dog\n",
      "1834     breadcrumbs\n",
      "215     tomato_paste\n",
      "Name: topic, dtype: object\n",
      "1606                 pork\n",
      "585           lemon_juice\n",
      "1830          breadcrumbs\n",
      "1028    steak_ingredients\n",
      "907         creme_fraiche\n",
      "Name: topic, dtype: object\n",
      "3806    cardamom\n",
      "6        bourbon\n",
      "883       yogurt\n",
      "3298       candy\n",
      "748          diy\n",
      "Name: topic, dtype: object\n"
     ]
    },
    {
     "ename": "ValueError",
     "evalue": "a must be greater than 0",
     "output_type": "error",
     "traceback": [
      "\u001b[0;31m---------------------------------------------------------------------------\u001b[0m",
      "\u001b[0;31mValueError\u001b[0m                                Traceback (most recent call last)",
      "\u001b[0;32m<ipython-input-69-c744c375600c>\u001b[0m in \u001b[0;36m<module>\u001b[0;34m()\u001b[0m\n\u001b[1;32m      1\u001b[0m \u001b[0;32mfor\u001b[0m \u001b[0mi\u001b[0m \u001b[0;32min\u001b[0m \u001b[0mrange\u001b[0m\u001b[0;34m(\u001b[0m\u001b[0;36m1\u001b[0m\u001b[0;34m,\u001b[0m\u001b[0;36m16\u001b[0m\u001b[0;34m)\u001b[0m\u001b[0;34m:\u001b[0m\u001b[0;34m\u001b[0m\u001b[0m\n\u001b[0;32m----> 2\u001b[0;31m     \u001b[0mprint\u001b[0m\u001b[0;34m(\u001b[0m\u001b[0mdf\u001b[0m\u001b[0;34m[\u001b[0m\u001b[0mdf\u001b[0m\u001b[0;34m.\u001b[0m\u001b[0mcluster_group\u001b[0m\u001b[0;34m==\u001b[0m\u001b[0mi\u001b[0m\u001b[0;34m]\u001b[0m\u001b[0;34m[\u001b[0m\u001b[0;34m'topic'\u001b[0m\u001b[0;34m]\u001b[0m\u001b[0;34m.\u001b[0m\u001b[0msample\u001b[0m\u001b[0;34m(\u001b[0m\u001b[0;36m5\u001b[0m\u001b[0;34m)\u001b[0m\u001b[0;34m)\u001b[0m\u001b[0;34m\u001b[0m\u001b[0m\n\u001b[0m",
      "\u001b[0;32m/anaconda3/lib/python3.6/site-packages/pandas/core/generic.py\u001b[0m in \u001b[0;36msample\u001b[0;34m(self, n, frac, replace, weights, random_state, axis)\u001b[0m\n\u001b[1;32m   4195\u001b[0m                              \"provide positive value.\")\n\u001b[1;32m   4196\u001b[0m \u001b[0;34m\u001b[0m\u001b[0m\n\u001b[0;32m-> 4197\u001b[0;31m         \u001b[0mlocs\u001b[0m \u001b[0;34m=\u001b[0m \u001b[0mrs\u001b[0m\u001b[0;34m.\u001b[0m\u001b[0mchoice\u001b[0m\u001b[0;34m(\u001b[0m\u001b[0maxis_length\u001b[0m\u001b[0;34m,\u001b[0m \u001b[0msize\u001b[0m\u001b[0;34m=\u001b[0m\u001b[0mn\u001b[0m\u001b[0;34m,\u001b[0m \u001b[0mreplace\u001b[0m\u001b[0;34m=\u001b[0m\u001b[0mreplace\u001b[0m\u001b[0;34m,\u001b[0m \u001b[0mp\u001b[0m\u001b[0;34m=\u001b[0m\u001b[0mweights\u001b[0m\u001b[0;34m)\u001b[0m\u001b[0;34m\u001b[0m\u001b[0m\n\u001b[0m\u001b[1;32m   4198\u001b[0m         \u001b[0;32mreturn\u001b[0m \u001b[0mself\u001b[0m\u001b[0;34m.\u001b[0m\u001b[0mtake\u001b[0m\u001b[0;34m(\u001b[0m\u001b[0mlocs\u001b[0m\u001b[0;34m,\u001b[0m \u001b[0maxis\u001b[0m\u001b[0;34m=\u001b[0m\u001b[0maxis\u001b[0m\u001b[0;34m,\u001b[0m \u001b[0mis_copy\u001b[0m\u001b[0;34m=\u001b[0m\u001b[0;32mFalse\u001b[0m\u001b[0;34m)\u001b[0m\u001b[0;34m\u001b[0m\u001b[0m\n\u001b[1;32m   4199\u001b[0m \u001b[0;34m\u001b[0m\u001b[0m\n",
      "\u001b[0;32mmtrand.pyx\u001b[0m in \u001b[0;36mmtrand.RandomState.choice\u001b[0;34m()\u001b[0m\n",
      "\u001b[0;31mValueError\u001b[0m: a must be greater than 0"
     ]
    }
   ],
   "source": [
    "for i in range(1,16):\n",
    "    print(df[df.cluster_group==i]['topic'].sample(5))"
   ]
  },
  {
   "cell_type": "code",
   "execution_count": 70,
   "metadata": {},
   "outputs": [
    {
     "data": {
      "text/plain": [
       "<wordcloud.wordcloud.WordCloud at 0x1a255e3fd0>"
      ]
     },
     "execution_count": 70,
     "metadata": {},
     "output_type": "execute_result"
    }
   ],
   "source": [
    "from wordcloud import WordCloud\n",
    "wc = WordCloud(background_color=\"white\", max_words=2000)\n",
    "# generate word cloud\n",
    "wc.generate(ingredient_string)"
   ]
  },
  {
   "cell_type": "code",
   "execution_count": 71,
   "metadata": {},
   "outputs": [
    {
     "data": {
      "image/png": "[encoded data removed]",
      "text/plain": [
       "<Figure size 432x288 with 1 Axes>"
      ]
     },
     "metadata": {},
     "output_type": "display_data"
    },
    {
     "data": {
      "image/png": "[encoded data removed]",
      "text/plain": [
       "<Figure size 360x216 with 1 Axes>"
      ]
     },
     "metadata": {},
     "output_type": "display_data"
    }
   ],
   "source": [
    "plt.imshow(wc, interpolation='bilinear')\n",
    "plt.axis(\"off\")\n",
    "plt.figure(figsize=(5, 3))\n",
    "plt.axis(\"off\")\n",
    "plt.show()"
   ]
  },
  {
   "cell_type": "code",
   "execution_count": 72,
   "metadata": {},
   "outputs": [
    {
     "name": "stderr",
     "output_type": "stream",
     "text": [
      "/anaconda3/lib/python3.6/site-packages/ipykernel_launcher.py:3: SettingWithCopyWarning: \n",
      "A value is trying to be set on a copy of a slice from a DataFrame\n",
      "\n",
      "See the caveats in the documentation: http://pandas.pydata.org/pandas-docs/stable/indexing.html#indexing-view-versus-copy\n",
      "  This is separate from the ipykernel package so we can avoid doing imports until\n",
      "/anaconda3/lib/python3.6/site-packages/ipykernel_launcher.py:4: SettingWithCopyWarning: \n",
      "A value is trying to be set on a copy of a slice from a DataFrame\n",
      "\n",
      "See the caveats in the documentation: http://pandas.pydata.org/pandas-docs/stable/indexing.html#indexing-view-versus-copy\n",
      "  after removing the cwd from sys.path.\n",
      "/anaconda3/lib/python3.6/site-packages/ipykernel_launcher.py:5: SettingWithCopyWarning: \n",
      "A value is trying to be set on a copy of a slice from a DataFrame\n",
      "\n",
      "See the caveats in the documentation: http://pandas.pydata.org/pandas-docs/stable/indexing.html#indexing-view-versus-copy\n",
      "  \"\"\"\n"
     ]
    }
   ],
   "source": [
    "Most_common_ingredients = pd.DataFrame(fdist1.most_common(20), columns = [\"Ingredient\", 'Quantity'])\n",
    "#Most_common_ingredients = Most_common_ingredients.set_index(\"Ingredient\",drop=True,inplace=True)\n",
    "Most_common_ingredients['Ingredient'][2] = 'kosher salt'\n",
    "Most_common_ingredients['Ingredient'][7] = 'unsalted butter'\n",
    "Most_common_ingredients['Ingredient'][8] = 'olive oil'"
   ]
  },
  {
   "cell_type": "code",
   "execution_count": 73,
   "metadata": {},
   "outputs": [],
   "source": [
    "Most_common_ingredients = Most_common_ingredients.set_index('Ingredient')"
   ]
  },
  {
   "cell_type": "code",
   "execution_count": 74,
   "metadata": {},
   "outputs": [
    {
     "data": {
      "text/plain": [
       "Text(0.5,0,'Quantity')"
      ]
     },
     "execution_count": 74,
     "metadata": {},
     "output_type": "execute_result"
    },
    {
     "data": {
      "image/png": "[encoded data removed]",
      "text/plain": [
       "<Figure size 576x720 with 1 Axes>"
      ]
     },
     "metadata": {},
     "output_type": "display_data"
    }
   ],
   "source": [
    "import pandas as pd\n",
    "import numpy as np\n",
    "import matplotlib.pyplot as plt\n",
    "from matplotlib.ticker import StrMethodFormatter\n",
    "ax = Most_common_ingredients.plot(kind='barh', figsize=(8, 10), color='#86bf91', zorder=2, width=0.85, title = 'Most Commonly Used Ingredients')\n",
    "# Set x-axis label\n",
    "ax.set_ylabel(\"Ingredients\", labelpad=20, weight='bold', size=12)\n",
    "# Set y-axis label\n",
    "ax.set_xlabel(\"Quantity\", labelpad=20, weight='bold', size=12)\n"
   ]
  },
  {
   "cell_type": "code",
   "execution_count": 75,
   "metadata": {},
   "outputs": [
    {
     "data": {
      "text/plain": [
       "Text(0,0.5,'Recipes')"
      ]
     },
     "execution_count": 75,
     "metadata": {},
     "output_type": "execute_result"
    },
    {
     "data": {
      "image/png": "[encoded data removed]",
      "text/plain": [
       "<Figure size 432x288 with 1 Axes>"
      ]
     },
     "metadata": {},
     "output_type": "display_data"
    }
   ],
   "source": [
    "import matplotlib.pyplot as plt\n",
    "import numpy as np\n",
    "\n",
    "import plotly.plotly as py\n",
    "# Learn about API authentication here: https://plot.ly/python/getting-started\n",
    "# Find your api_key here: https://plot.ly/settings/api\n",
    "\n",
    "instruction_sets = df['num_instructions']\n",
    "plt.hist(instruction_sets)\n",
    "plt.title(\"Amount of Instructions Histogram\")\n",
    "plt.xlabel(\"Amount of Instructions\")\n",
    "plt.ylabel(\"Recipes\")\n",
    "\n"
   ]
  },
  {
   "cell_type": "code",
   "execution_count": 76,
   "metadata": {},
   "outputs": [
    {
     "data": {
      "text/plain": [
       "Text(0,0.5,'Recipes')"
      ]
     },
     "execution_count": 76,
     "metadata": {},
     "output_type": "execute_result"
    },
    {
     "data": {
      "image/png": "[encoded data removed]",
      "text/plain": [
       "<Figure size 432x288 with 1 Axes>"
      ]
     },
     "metadata": {},
     "output_type": "display_data"
    }
   ],
   "source": [
    "instruction_sets = df['num_ingredients']\n",
    "plt.hist(instruction_sets, color='orange')\n",
    "plt.title(\"Amount of Ingredients\")\n",
    "plt.xlabel(\"Amount of Ingredients\")\n",
    "plt.ylabel(\"Recipes\")"
   ]
  },
  {
   "cell_type": "code",
   "execution_count": 77,
   "metadata": {},
   "outputs": [
    {
     "data": {
      "text/html": [
       "<div>\n",
       "<style scoped>\n",
       "    .dataframe tbody tr th:only-of-type {\n",
       "        vertical-align: middle;\n",
       "    }\n",
       "\n",
       "    .dataframe tbody tr th {\n",
       "        vertical-align: top;\n",
       "    }\n",
       "\n",
       "    .dataframe thead th {\n",
       "        text-align: right;\n",
       "    }\n",
       "</style>\n",
       "<table border=\"1\" class=\"dataframe\">\n",
       "  <thead>\n",
       "    <tr style=\"text-align: right;\">\n",
       "      <th></th>\n",
       "      <th>base_url</th>\n",
       "      <th>description</th>\n",
       "      <th>ingredients</th>\n",
       "      <th>instructions</th>\n",
       "      <th>recipe_url</th>\n",
       "      <th>num_ingredients</th>\n",
       "      <th>num_instructions</th>\n",
       "      <th>topic</th>\n",
       "      <th>is_dairy</th>\n",
       "      <th>is_meat</th>\n",
       "      <th>cluster_group</th>\n",
       "      <th>ingredients_cleaned</th>\n",
       "      <th>recipe_id</th>\n",
       "    </tr>\n",
       "  </thead>\n",
       "  <tbody>\n",
       "    <tr>\n",
       "      <th>146</th>\n",
       "      <td>https://www.chowhound.com/recipes/summer</td>\n",
       "      <td>[You’ve had chocolate chip cookie ice cream sa...</td>\n",
       "      <td>[8 tablespoons 1 stick unsalted butter, plus m...</td>\n",
       "      <td>[(0, Have all your ingredients at room tempera...</td>\n",
       "      <td>https://www.chowhound.com/recipes/chocolate-ch...</td>\n",
       "      <td>14</td>\n",
       "      <td>12</td>\n",
       "      <td>summer</td>\n",
       "      <td>1</td>\n",
       "      <td>0</td>\n",
       "      <td>8</td>\n",
       "      <td>[tablespoons, stick, butter, pan, cup, sugar, ...</td>\n",
       "      <td>146</td>\n",
       "    </tr>\n",
       "    <tr>\n",
       "      <th>3391</th>\n",
       "      <td>https://www.chowhound.com/recipes/pasta</td>\n",
       "      <td>[The classic Italian antipasti plate, with its...</td>\n",
       "      <td>[1/3 cup small-dice red onion, 3 tablespoons r...</td>\n",
       "      <td>[(0, 1Place the onion, vinegar, and oregano in...</td>\n",
       "      <td>https://www.chowhound.com/recipes/italian-past...</td>\n",
       "      <td>12</td>\n",
       "      <td>8</td>\n",
       "      <td>pasta</td>\n",
       "      <td>1</td>\n",
       "      <td>0</td>\n",
       "      <td>12</td>\n",
       "      <td>[small-dice, onion, tablespoons, wine, vinegar...</td>\n",
       "      <td>3391</td>\n",
       "    </tr>\n",
       "    <tr>\n",
       "      <th>1869</th>\n",
       "      <td>https://www.chowhound.com/recipes/los-angeles</td>\n",
       "      <td>[In this easy recipe for mushroom melt sandwic...</td>\n",
       "      <td>[1/2 pound wild mushrooms: chanterelles, wood ...</td>\n",
       "      <td>[(0, 1Heat the oven to 375°F and arrange a rac...</td>\n",
       "      <td>https://www.chowhound.com/recipes/dtla-mushroo...</td>\n",
       "      <td>10</td>\n",
       "      <td>9</td>\n",
       "      <td>los_angeles</td>\n",
       "      <td>1</td>\n",
       "      <td>0</td>\n",
       "      <td>12</td>\n",
       "      <td>[pound, mushrooms, chanterelles, wood, ears, l...</td>\n",
       "      <td>1869</td>\n",
       "    </tr>\n",
       "    <tr>\n",
       "      <th>263</th>\n",
       "      <td>https://www.chowhound.com/recipes/labor-day</td>\n",
       "      <td>[An unbelievably rich and exuberant pie provin...</td>\n",
       "      <td>[6 ounces chocolate cookie wafers about 25 waf...</td>\n",
       "      <td>[(0, Heat the oven to 350°F and arrange a rack...</td>\n",
       "      <td>https://www.chowhound.com/recipes/chocolate-mo...</td>\n",
       "      <td>9</td>\n",
       "      <td>10</td>\n",
       "      <td>labor_day</td>\n",
       "      <td>1</td>\n",
       "      <td>0</td>\n",
       "      <td>8</td>\n",
       "      <td>[ounces, cookie, wafers, wafers, nabisco, famo...</td>\n",
       "      <td>263</td>\n",
       "    </tr>\n",
       "    <tr>\n",
       "      <th>512</th>\n",
       "      <td>https://www.chowhound.com/recipes/rice-flour</td>\n",
       "      <td>[These pancakes, from Tartine All Day: Modern ...</td>\n",
       "      <td>[3 tablespoons almond flour, 2 tablespoons tap...</td>\n",
       "      <td>[(0, 1Combine the almond flour, tapioca flour/...</td>\n",
       "      <td>https://www.chowhound.com/recipes/fluffy-grain...</td>\n",
       "      <td>10</td>\n",
       "      <td>8</td>\n",
       "      <td>rice_flour</td>\n",
       "      <td>1</td>\n",
       "      <td>0</td>\n",
       "      <td>8</td>\n",
       "      <td>[tablespoons, tablespoons, cup, tablespoon, oa...</td>\n",
       "      <td>512</td>\n",
       "    </tr>\n",
       "  </tbody>\n",
       "</table>\n",
       "</div>"
      ],
      "text/plain": [
       "                                           base_url  \\\n",
       "146        https://www.chowhound.com/recipes/summer   \n",
       "3391        https://www.chowhound.com/recipes/pasta   \n",
       "1869  https://www.chowhound.com/recipes/los-angeles   \n",
       "263     https://www.chowhound.com/recipes/labor-day   \n",
       "512    https://www.chowhound.com/recipes/rice-flour   \n",
       "\n",
       "                                            description  \\\n",
       "146   [You’ve had chocolate chip cookie ice cream sa...   \n",
       "3391  [The classic Italian antipasti plate, with its...   \n",
       "1869  [In this easy recipe for mushroom melt sandwic...   \n",
       "263   [An unbelievably rich and exuberant pie provin...   \n",
       "512   [These pancakes, from Tartine All Day: Modern ...   \n",
       "\n",
       "                                            ingredients  \\\n",
       "146   [8 tablespoons 1 stick unsalted butter, plus m...   \n",
       "3391  [1/3 cup small-dice red onion, 3 tablespoons r...   \n",
       "1869  [1/2 pound wild mushrooms: chanterelles, wood ...   \n",
       "263   [6 ounces chocolate cookie wafers about 25 waf...   \n",
       "512   [3 tablespoons almond flour, 2 tablespoons tap...   \n",
       "\n",
       "                                           instructions  \\\n",
       "146   [(0, Have all your ingredients at room tempera...   \n",
       "3391  [(0, 1Place the onion, vinegar, and oregano in...   \n",
       "1869  [(0, 1Heat the oven to 375°F and arrange a rac...   \n",
       "263   [(0, Heat the oven to 350°F and arrange a rack...   \n",
       "512   [(0, 1Combine the almond flour, tapioca flour/...   \n",
       "\n",
       "                                             recipe_url  num_ingredients  \\\n",
       "146   https://www.chowhound.com/recipes/chocolate-ch...               14   \n",
       "3391  https://www.chowhound.com/recipes/italian-past...               12   \n",
       "1869  https://www.chowhound.com/recipes/dtla-mushroo...               10   \n",
       "263   https://www.chowhound.com/recipes/chocolate-mo...                9   \n",
       "512   https://www.chowhound.com/recipes/fluffy-grain...               10   \n",
       "\n",
       "      num_instructions        topic  is_dairy  is_meat  cluster_group  \\\n",
       "146                 12       summer         1        0              8   \n",
       "3391                 8        pasta         1        0             12   \n",
       "1869                 9  los_angeles         1        0             12   \n",
       "263                 10    labor_day         1        0              8   \n",
       "512                  8   rice_flour         1        0              8   \n",
       "\n",
       "                                    ingredients_cleaned  recipe_id  \n",
       "146   [tablespoons, stick, butter, pan, cup, sugar, ...        146  \n",
       "3391  [small-dice, onion, tablespoons, wine, vinegar...       3391  \n",
       "1869  [pound, mushrooms, chanterelles, wood, ears, l...       1869  \n",
       "263   [ounces, cookie, wafers, wafers, nabisco, famo...        263  \n",
       "512   [tablespoons, tablespoons, cup, tablespoon, oa...        512  "
      ]
     },
     "execution_count": 77,
     "metadata": {},
     "output_type": "execute_result"
    }
   ],
   "source": [
    "df.sample(5)"
   ]
  },
  {
   "cell_type": "code",
   "execution_count": 78,
   "metadata": {},
   "outputs": [],
   "source": [
    "graph_ingredients = df['num_ingredients']\n",
    "graph_instructions = df['num_instructions']\n",
    "graph_topic = df['topic']"
   ]
  },
  {
   "cell_type": "code",
   "execution_count": 79,
   "metadata": {},
   "outputs": [],
   "source": [
    "graph_topic = pd.DataFrame(graph_ingredients,graph_instructions,graph_topic)"
   ]
  },
  {
   "cell_type": "code",
   "execution_count": 85,
   "metadata": {},
   "outputs": [],
   "source": [
    "fields = ['num_ingredients','num_instructions','topic']\n",
    "topics_df = df[fields]"
   ]
  },
  {
   "cell_type": "code",
   "execution_count": 91,
   "metadata": {},
   "outputs": [],
   "source": [
    "topics_df = topics_df.set_index('topic')"
   ]
  },
  {
   "cell_type": "code",
   "execution_count": 92,
   "metadata": {},
   "outputs": [
    {
     "data": {
      "text/plain": [
       "Text(0.5,0,'num_ingredients')"
      ]
     },
     "execution_count": 92,
     "metadata": {},
     "output_type": "execute_result"
    },
    {
     "data": {
      "image/png": "[encoded data removed]",
      "text/plain": [
       "<Figure size 576x720 with 1 Axes>"
      ]
     },
     "metadata": {},
     "output_type": "display_data"
    }
   ],
   "source": [
    "ax = topics_df.plot(kind='bar', figsize=(8, 10), color='#86bf91', zorder=2, width=0.85, title = 'Most Commonly Used Ingredients')\n",
    "# Set x-axis label\n",
    "ax.set_ylabel(\"num_instructions\", labelpad=20, weight='bold', size=12)\n",
    "# Set y-axis label\n",
    "ax.set_xlabel(\"num_ingredients\", labelpad=20, weight='bold', size=12)"
   ]
  },
  {
   "cell_type": "code",
   "execution_count": null,
   "metadata": {},
   "outputs": [],
   "source": []
  }
 ],
 "metadata": {
  "kernelspec": {
   "display_name": "Python 3",
   "language": "python",
   "name": "python3"
  },
  "language_info": {
   "codemirror_mode": {
    "name": "ipython",
    "version": 3
   },
   "file_extension": ".py",
   "mimetype": "text/x-python",
   "name": "python",
   "nbconvert_exporter": "python",
   "pygments_lexer": "ipython3",
   "version": "3.6.5"
  }
 },
 "nbformat": 4,
 "nbformat_minor": 2
}
